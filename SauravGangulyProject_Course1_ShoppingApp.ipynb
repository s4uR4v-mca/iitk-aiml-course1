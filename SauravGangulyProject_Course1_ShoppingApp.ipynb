{
 "cells": [
  {
   "cell_type": "markdown",
   "id": "cb21943e-7c76-4441-8f32-bf62cd51f69f",
   "metadata": {},
   "source": [
    "# Problem Scenario\n",
    "\n",
    "### You have to develop a shopping application or e-commerce application which has a Login  platform. The applications that have been developed should also include categories, such as 3–4 for footwear, clothing, electronics, etc. It should be possible to add and update categories in the application. Additionally, it must contain a feature that allows you to add or remove items from your cart. Finally, the program needs to support a variety of payment options, including UPI and debit cards. This should be only backend implementation, and UX/UI and database connectivity are not required."
   ]
  },
  {
   "cell_type": "code",
   "execution_count": 5,
   "id": "6fc3afdd-14bb-4022-a396-2707410a8a87",
   "metadata": {},
   "outputs": [],
   "source": [
    "# Mocked Databases\n",
    "users = [{'username': 'Admin', 'password': 'Admin@1234'}]\n",
    "logged_in_users = []\n",
    "categories = {'footwear': [{'product_id': 'footwear-001', 'brand': 'Crocs', 'name': 'LiteRide 360', 'type': 'Clogs', 'unit_price': 2000}\n",
    "                           , {'product_id': 'footwear-002','brand': 'Nike', 'name': 'Air Jordan', 'type': 'Sneakers', 'unit_price': 4000}], \n",
    "              'clothing': [{'product_id': 'clothing-001','brand': 'Lacoste', 'name': 'Sport 3D', 'type': 'T-Shirt', 'unit_price': 3500}, \n",
    "                           {'product_id': 'clothing-002', 'brand': 'Peter England', 'name': 'Slim Fit', 'type': 'Formal Shirt', 'unit_price': 1500}], \n",
    "              'electronics': [{'product_id': 'electronics-001', 'brand': 'Apple', 'name': 'iPhone 16 Pro Max', 'type': 'Mobile', 'unit_price': 75000}, \n",
    "                              {'product_id': 'electronics-002', 'brand': 'Samsung', 'name': '55 OLED 4K TV', 'type': 'TV', 'unit_price': 40000}]}\n",
    "user_carts = []\n",
    "user_orders = []\n",
    "payments_methods = ['Credit_Card', 'Debit_Card', \"Cash\", \"UPI\"]\n",
    "\n",
    "# Helper Variables\n",
    "Password_MinLen = 6\n",
    "Password_MaxLen = 20\n",
    "Password_Special_Chars = ['!', '@', '#', '$', '%', '&', '_', '.']\n",
    "Invalid_Pwd_Msg = \"Invalid password.\\nPassoword format required:\\n1) The password must contain atleast one upper case, one lower case, one number, and one special character from the followings: {}\\n2) The minimum length of the must password must be {} characters and the maximum length can be {} characters\""
   ]
  },
  {
   "cell_type": "markdown",
   "id": "6e557125-1b79-46df-892f-ca17f95eea26",
   "metadata": {
    "tags": []
   },
   "source": [
    "## Function Definitions"
   ]
  },
  {
   "cell_type": "markdown",
   "id": "1c35c10b-40a1-4cdf-905e-ab1e6707c685",
   "metadata": {},
   "source": [
    "### User Management"
   ]
  },
  {
   "cell_type": "markdown",
   "id": "e278a49d-5001-4855-9650-8c8839e991c1",
   "metadata": {},
   "source": [
    "#### Helper functions for password strength check during sign up"
   ]
  },
  {
   "cell_type": "code",
   "execution_count": 6,
   "id": "a8db42c1-e9fb-4358-a129-5916e5498ff9",
   "metadata": {},
   "outputs": [],
   "source": [
    "import string\n",
    "import re\n",
    "\n",
    "# Function for checking passoword lenth\n",
    "def pwd_len_check(password):\n",
    "    password_length = len(password)\n",
    "    return password_length >= Password_MinLen and password_length <= Password_MaxLen\n",
    "\n",
    "# Function for checking whether the password contains atleast one lower case, one upper case and one numric character\n",
    "def pwd_has_upper_lower_number(password):\n",
    "    return len(set(string.ascii_lowercase).intersection(password)) != 0 and len(set(string.ascii_uppercase).intersection(password)) != 0 and len(set(string.digits).intersection(password)) != 0\n",
    "\n",
    "# Function to check whether the password contains any of the required special characters or not\n",
    "def pwd_has_allowed_spl_chars(password):\n",
    "    pwd_regex = re.compile('[!@#$%&*_.]')\n",
    "    return pwd_regex.search(password) != None"
   ]
  },
  {
   "cell_type": "markdown",
   "id": "a4d05623-6a00-43a4-b39c-e9456d18250d",
   "metadata": {},
   "source": [
    "#### Sign Up function definition"
   ]
  },
  {
   "cell_type": "code",
   "execution_count": 7,
   "id": "4b465474-1fc8-4edc-9a94-c8ecc2da0c17",
   "metadata": {},
   "outputs": [],
   "source": [
    "def create_user(username, password, password_confirmation):\n",
    "    \n",
    "    # First check whether the username provided already exists in the db or not\n",
    "    for user in users:\n",
    "        if(user['username'] == username):\n",
    "            print('User \\\"{}\\\" already exists. Please login if already an user or try sign up with a different username.'.format(username))\n",
    "            return False\n",
    "    #Check whether the password and re-confirm password matches or not\n",
    "    if(password != password_confirmation):\n",
    "        print('Password and password reconfirmation do not match. Please try again')\n",
    "        return False\n",
    "        \n",
    "    # We can do an additional check for the password strength. \n",
    "    # The password must contain atleast one upper case, one lower case, one special character and one number.\n",
    "    # The minimum length of the must password must be 6 characters and the maximum length can be 20 characters\n",
    "    \n",
    "    # List of validator functions previously defined for password check\n",
    "    pwd_validators = [pwd_len_check, pwd_has_upper_lower_number, pwd_has_allowed_spl_chars]\n",
    "    \n",
    "    # Loop through the validator functions to check the passord strength\n",
    "    for validator in pwd_validators:\n",
    "        if not validator(password):\n",
    "            print(Invalid_Pwd_Msg.format(' '.join(Password_Special_Chars), Password_MinLen, Password_MaxLen))\n",
    "            return False\n",
    "    \n",
    "    # Finally, after all the above constraints are satisfied, add the user the users list\n",
    "    users.append({'username': username, 'password': password})\n",
    "    print(\"Congratulation, user successfully created. Please login to use the shopping application.\")\n",
    "    return True"
   ]
  },
  {
   "cell_type": "markdown",
   "id": "72d58f52-e75b-453f-a6ce-5d4fa3d2af67",
   "metadata": {
    "tags": []
   },
   "source": [
    "#### Do Signup with user input"
   ]
  },
  {
   "cell_type": "code",
   "execution_count": 8,
   "id": "167f535e-b167-4478-8ecf-856f401d613b",
   "metadata": {},
   "outputs": [],
   "source": [
    "# Function to take user input for signup\n",
    "def user_sign_up():\n",
    "    username = input('Enter Username: ')\n",
    "    password = input('Enter Password: ')\n",
    "    password_confirmation = input('Re-confirm Password: ')\n",
    "    create_user(username = username, password = password, password_confirmation = password_confirmation)"
   ]
  },
  {
   "cell_type": "markdown",
   "id": "45feba88-cf97-41ba-bb4f-e4f79791a046",
   "metadata": {},
   "source": [
    "#### Login function definition"
   ]
  },
  {
   "cell_type": "code",
   "execution_count": 9,
   "id": "408b2ef6-42a3-42a0-b8b5-240fb867f1fb",
   "metadata": {},
   "outputs": [],
   "source": [
    "# Function for the user authentication logic\n",
    "def authenticate_user(username, password):\n",
    "    for user in users:\n",
    "        #Check whether user is already logged in or not\n",
    "        current_user = {'username': username, 'password': password}\n",
    "        if(current_user in logged_in_users):\n",
    "            print('{} is already logged in!'.format(current_user['username']))\n",
    "            return False\n",
    "        \n",
    "        #Validate the inputs to authenticate user login\n",
    "        if(user['username'] == username and user['password'] == password):\n",
    "            print('Hello {}, welcome to Shopping Cart Application!'.format(username))\n",
    "            logged_in_users.append(user)\n",
    "            return True\n",
    "    print('Access Denied! Invalid username or password')  \n",
    "    return False"
   ]
  },
  {
   "cell_type": "markdown",
   "id": "7484cef1-24fd-4692-aa74-f3b811b96c00",
   "metadata": {},
   "source": [
    "#### Do Login with user input"
   ]
  },
  {
   "cell_type": "code",
   "execution_count": 10,
   "id": "d0ce77ca-0973-475d-b5f7-2453af6919e2",
   "metadata": {},
   "outputs": [],
   "source": [
    "# Function to take user input for user login\n",
    "def user_login():\n",
    "    username = input('Enter Username: ')\n",
    "    password = input('Enter Password: ')\n",
    "    authenticate_user(username = username, password = password)"
   ]
  },
  {
   "cell_type": "markdown",
   "id": "d89d9772-690c-4fd0-bd8f-4246f1f6bdf5",
   "metadata": {},
   "source": [
    "#### Logout function definition"
   ]
  },
  {
   "cell_type": "code",
   "execution_count": 11,
   "id": "07a07e6f-5e0b-4829-981f-bd40bf97d1a0",
   "metadata": {},
   "outputs": [],
   "source": [
    "# Logout logic for already logged in user\n",
    "def logout(username):\n",
    "    logged_in_user = None\n",
    "    for user in logged_in_users:\n",
    "        if(user['username'] == username):\n",
    "            logged_in_user = user\n",
    "            break\n",
    "            \n",
    "    if(logged_in_user != None):\n",
    "        logged_in_users.remove(logged_in_user)\n",
    "        print('{} has been successfully logged out of the system'.format(logged_in_user['username']))\n",
    "        return True\n",
    "    else:\n",
    "        print('{} is not yet logged in'.format(username))\n",
    "        return False"
   ]
  },
  {
   "cell_type": "markdown",
   "id": "71ac0a7a-f701-4fd9-96a2-36a3e53275c1",
   "metadata": {},
   "source": [
    "#### Do Logout with user input"
   ]
  },
  {
   "cell_type": "code",
   "execution_count": 12,
   "id": "a874defd-4901-42c5-bce8-b333f26673d9",
   "metadata": {},
   "outputs": [],
   "source": [
    "# Function to take user input for logout\n",
    "# This function takes username of the user to be logged out\n",
    "def user_logout():\n",
    "    username = input('Enter username to logout: ')\n",
    "    logout(username)"
   ]
  },
  {
   "cell_type": "markdown",
   "id": "c83a94db-e500-4466-9f1a-23199857c4af",
   "metadata": {},
   "source": [
    "#### Check User Login Status"
   ]
  },
  {
   "cell_type": "code",
   "execution_count": 13,
   "id": "03f0998f-ef55-4b0f-a7eb-a2d3d793d217",
   "metadata": {},
   "outputs": [],
   "source": [
    "def check_user_login(username):\n",
    "    is_logged_in = False\n",
    "    for user in logged_in_users:\n",
    "        if user['username'] == username:\n",
    "            is_logged_in = True\n",
    "            break\n",
    "    return is_logged_in"
   ]
  },
  {
   "cell_type": "markdown",
   "id": "2455efb9-0736-41af-9e33-aa286a4a2d57",
   "metadata": {},
   "source": [
    "### Formatted Print Functions"
   ]
  },
  {
   "cell_type": "markdown",
   "id": "76bdcebe-ee7b-4922-a8b8-a54f05553d14",
   "metadata": {},
   "source": [
    "#### Print All Category-wise Products"
   ]
  },
  {
   "cell_type": "code",
   "execution_count": 14,
   "id": "f46a1dc7-01ae-446a-a21f-2b88c54991d9",
   "metadata": {},
   "outputs": [],
   "source": [
    "def print_all_category_products():\n",
    "    for category_name in categories.keys():\n",
    "        print('\\nCategory - {}'.format(category_name))\n",
    "        category_products = categories[category_name]\n",
    "        print('{:<20} {:<20} {:<20} {:<20} {:<20}'.format('Product ID', 'Brand','Product Name','Product Type','Unit Price'))\n",
    "        for prod in category_products:\n",
    "            print('{:<20} {:<20} {:<20} {:<20} {:<20}'.format(prod['product_id'], prod['brand'], prod['name'], prod['type'], prod['unit_price']))\n",
    "            "
   ]
  },
  {
   "cell_type": "markdown",
   "id": "d25a8a0e-f977-4285-92ec-f9735b9c14f7",
   "metadata": {},
   "source": [
    "#### Print All Products of a Category"
   ]
  },
  {
   "cell_type": "code",
   "execution_count": 15,
   "id": "2b6e83d1-9b91-4c85-b7d4-b7e064d60dbe",
   "metadata": {},
   "outputs": [],
   "source": [
    "def print_category_products(category_name):\n",
    "    if category_name in categories:\n",
    "        print('\\nCategory - {}'.format(category_name))\n",
    "        category_products = categories[category_name]\n",
    "        print('{:<20} {:<20} {:<20} {:<20} {:<20}'.format('Product ID', 'Brand','Product Name','Product Type','Unit Price'))\n",
    "        for prod in category_products:\n",
    "            print('{:<20} {:<20} {:<20} {:<20} {:<20}'.format(prod['product_id'], prod['brand'], prod['name'], prod['type'], prod['unit_price']))\n",
    "    else:\n",
    "        print('No Category Found with name: {}'.format(category_name))"
   ]
  },
  {
   "cell_type": "markdown",
   "id": "964303d9-80ab-4f7e-87da-4eb041eb40b8",
   "metadata": {},
   "source": [
    "#### Print a Product"
   ]
  },
  {
   "cell_type": "code",
   "execution_count": 16,
   "id": "a3fb004b-4fba-48de-aa0b-d6121f03fa19",
   "metadata": {},
   "outputs": [],
   "source": [
    "def print_product(product):\n",
    "    if product != None:\n",
    "        print('\\n{:<20} {:<20} {:<20} {:<20} {:<20}'.format('Product ID', 'Brand','Product Name','Product Type','Unit Price'))\n",
    "        print('{:<20} {:<20} {:<20} {:<20} {:<20}'.format(product['product_id'], product['brand'], product['name'], product['type'], product['unit_price']))\n",
    "    else:\n",
    "        print('Invalid product')"
   ]
  },
  {
   "cell_type": "markdown",
   "id": "bc9c843a-3218-4f46-b240-73987a0e475d",
   "metadata": {},
   "source": [
    "### Inventory Modifications/Viewing (can be done only by 'Admin' user)"
   ]
  },
  {
   "cell_type": "markdown",
   "id": "09339a69-695b-441c-8bd7-3bc94af23862",
   "metadata": {},
   "source": [
    "#### Check Admin User"
   ]
  },
  {
   "cell_type": "code",
   "execution_count": 17,
   "id": "145f5ac9-5582-4008-b0e4-0dbfba5a9911",
   "metadata": {},
   "outputs": [],
   "source": [
    "def check_admin():\n",
    "    admin = input('Enter admin username: ')\n",
    "    \n",
    "    # Check whether the user is Admin or not\n",
    "    if len(admin) == 0 or admin != 'Admin':\n",
    "        print('Only Admin can perform this action')\n",
    "        return False\n",
    "    \n",
    "    is_admin_logged_in = check_user_login(admin)\n",
    "    \n",
    "    if not is_admin_logged_in:\n",
    "        print('\\\"{}\\\" is not yet logged in'.format(admin))\n",
    "        \n",
    "    return is_admin_logged_in"
   ]
  },
  {
   "cell_type": "markdown",
   "id": "bd60df99-d54d-4bb3-8c3a-5feb69520cdc",
   "metadata": {},
   "source": [
    "#### Add new category (Admin login required)"
   ]
  },
  {
   "cell_type": "code",
   "execution_count": 18,
   "id": "837b5a02-8a7f-4941-b975-7be6116d8be6",
   "metadata": {},
   "outputs": [],
   "source": [
    "def add_category():\n",
    "    # Check whether the user who wants to add category is an Admin or not\n",
    "    # Only an Admin can add category\n",
    "    # To add a category the Admin has to login first\n",
    "    if check_admin():\n",
    "        new_category = input('Enter New Category: ')\n",
    "        if new_category not in categories:\n",
    "            categories[new_category] = []\n",
    "            print('Category \\\"{}\\\" successfully added to the inventory'.format(new_category))\n",
    "            return True\n",
    "        else:\n",
    "            print('Category \\\"{}\\\" already exists'.format(new_category))\n",
    "    else:\n",
    "        return False"
   ]
  },
  {
   "cell_type": "markdown",
   "id": "356634ae-a295-4e59-91c2-94e9f6f6b2e6",
   "metadata": {},
   "source": [
    "#### Update existing category name (Admin login required)"
   ]
  },
  {
   "cell_type": "code",
   "execution_count": 19,
   "id": "9d34bb0a-2d93-440a-bc1d-171f8ee926f1",
   "metadata": {},
   "outputs": [],
   "source": [
    "def update_category():\n",
    "    # Check whether the user who wants to update category name is an Admin or not\n",
    "    # Only an Admin can update category name\n",
    "    # To update a category name the Admin has to login first\n",
    "    if check_admin():\n",
    "        existing_name = input('Enter Existing Category Name: ')\n",
    "        new_name = input('Enter New Category Name: ')\n",
    "    \n",
    "        if existing_name in categories:\n",
    "            categories[new_name] = categories.pop(existing_name)\n",
    "            print('Category name successfully updated from \\\"{}\\\" to \\\"{}\\\"'.format(existing_name, new_name))\n",
    "            return True\n",
    "        else:\n",
    "            print('Category \\\"{}\\\" not found'.format(existing_name))\n",
    "            return False\n",
    "    else:\n",
    "        return False"
   ]
  },
  {
   "cell_type": "markdown",
   "id": "de2b6a9c-d49d-4f6d-bfdb-0a5a84693c9b",
   "metadata": {},
   "source": [
    "#### Delete a category (Admin login required)"
   ]
  },
  {
   "cell_type": "code",
   "execution_count": 20,
   "id": "72d59db0-379f-407b-a024-840ecf12af47",
   "metadata": {},
   "outputs": [],
   "source": [
    "def delete_category():\n",
    "    # Check whether the user who wants to delete category is an Admin or not\n",
    "    # Only an Admin can delete a category\n",
    "    # To delete a category the Admin has to login first\n",
    "    if check_admin():\n",
    "        all_categories = categories.keys()\n",
    "        print('Delete any category following categories\\n{}'.format(', '.join(all_categories)))\n",
    "        delete_category_name = input('Enter Category Name: ')\n",
    "        \n",
    "        if delete_category_name in all_categories:\n",
    "            # Check if the category contains any products or not\n",
    "            # If a category contains products then please reconfirm the deletion of the category from the Admin\n",
    "            if len(categories[delete_category_name]) > 0:\n",
    "                delete_confirmation = input('\\nThe Category - {} contains {} products, do you want to still delete it? Confirm with Y/N: '.format(delete_category_name, len(categories[delete_category_name])))\n",
    "                \n",
    "                if delete_confirmation.upper() == 'Y':\n",
    "                    del categories[delete_category_name]\n",
    "                    print('Category \\\"{}\\\" deleted successfully'.format(delete_category_name))\n",
    "                    return True\n",
    "                \n",
    "                else:\n",
    "                    print('You did not confirm deletion, skipping category deletion')\n",
    "                    return False\n",
    "                \n",
    "            else:\n",
    "                # If it is an empty category delete without confirmation\n",
    "                del categories[delete_category_name]\n",
    "                print('Category \\\"{}\\\" deleted successfully'.format(delete_category_name))\n",
    "                return True\n",
    "                \n",
    "        else:\n",
    "            print('Category \\\"{}\\\" not found, please try again'.format(delete_category_name))\n",
    "            return False\n",
    "        \n",
    "    else:\n",
    "        return False"
   ]
  },
  {
   "cell_type": "markdown",
   "id": "985665cd-4fdc-4209-a485-a0c521c1aef3",
   "metadata": {},
   "source": [
    "#### Add a new product to a category (Admin login required)"
   ]
  },
  {
   "cell_type": "code",
   "execution_count": 24,
   "id": "c07d77d7-09ec-4fdc-9ffb-990768adc758",
   "metadata": {},
   "outputs": [],
   "source": [
    "def add_category_product():\n",
    "    if check_admin():\n",
    "        all_categories = categories.keys()\n",
    "        print('Add a product to any one of the following categories\\n{}'.format(', '.join(all_categories)))\n",
    "        category_name = input('Enter Category Name: ')\n",
    "        \n",
    "        #Check whether the category name prodived exists or not\n",
    "        if category_name in categories:\n",
    "            print('Provide the new product details for Category \\\"{}\\\"'.format(category_name))\n",
    "            # Take inputs for brand name, product name and product type\n",
    "            brand_name = input('Enter Brand Name: ')\n",
    "            if(len(brand_name) == 0):\n",
    "                print('Brand Name can not be empty, Please try again')\n",
    "                return False\n",
    "            \n",
    "            product_name = input('Enter Product Name: ')\n",
    "            if(len(product_name) == 0):\n",
    "                print('Product Name can not be empty, Please try again')\n",
    "                return False\n",
    "            \n",
    "            product_type = input('Enter Product Type: ')\n",
    "            if(len(product_type) == 0):\n",
    "                print('Product Type can not be empty, Please try again')\n",
    "                return False\n",
    "           \n",
    "            category_products = categories.get(category_name)\n",
    "            for product in category_products:\n",
    "                if(product['brand'] == brand_name and product['name'] == product_name and product['type'] == product_type):\n",
    "                    print('Product already exists. Please add a new product')\n",
    "                    return False\n",
    "            # Take input for unit price of the product\n",
    "            unit_price = input('Enter Unit Price (Non-negetive integer): ')\n",
    "            \n",
    "            #Sanity check for unit price\n",
    "            if not unit_price.isnumeric() or int(unit_price) < 0:\n",
    "                print('Invalid unit price. Unit price must be non-negetive integer')\n",
    "                return False\n",
    "            \n",
    "            # Auto generate product id based on the category name of the product\n",
    "            product_id = '{}-00{}'.format(category_name, len(category_products)+1)\n",
    "            \n",
    "            # Finally add the new product for the category\n",
    "            categories[category_name].append({'product_id': product_id, 'brand': brand_name, 'name': product_name, 'type': product_type, 'unit_price': int(unit_price)})\n",
    "            print('Product successfully added to category \\\"{}\\\"'.format(category_name))\n",
    "            \n",
    "            # Print all the category products after adding the product\n",
    "            print_category_products(category_name)\n",
    "                \n",
    "            return True\n",
    "        else:\n",
    "            print('Category \\\"{}\\\" not found. Please try again'.format(category_name))\n",
    "            return False\n",
    "    else:\n",
    "        return False"
   ]
  },
  {
   "cell_type": "markdown",
   "id": "a49be4c6-d4b0-458d-80ef-fd62906e698b",
   "metadata": {},
   "source": [
    "#### Udate a product from a category (Admin login required)"
   ]
  },
  {
   "cell_type": "code",
   "execution_count": 25,
   "id": "13175e4f-244d-4a12-9a1a-1a73e9ae4c29",
   "metadata": {},
   "outputs": [],
   "source": [
    "def update_category_product():\n",
    "    if check_admin():\n",
    "        all_categories = categories.keys()\n",
    "        print('\\nUpdate a product from any one of the following categories\\n{}'.format(', '.join(all_categories)))\n",
    "        category_name = input('Enter category: ')\n",
    "        # Check whether the category name provided exists or not\n",
    "        if category_name in categories:\n",
    "            # All product ids from the given category\n",
    "            product_id_list = list(map(lambda x: x['product_id'], categories[category_name]))\n",
    "            # If a category has no product, then return\n",
    "            if len(product_id_list) == 0:\n",
    "                print('No product found in the category')\n",
    "                return False\n",
    "            \n",
    "            # Print all the category products for the reference of admin to update one\n",
    "            print_category_products(category_name)\n",
    "            \n",
    "            product_id = input('\\nEnter Product ID to update (Refer the above table to get the Product ID): ')\n",
    "            if product_id in product_id_list:\n",
    "                existing_product = next((x for x in categories[category_name] if x['product_id'] == product_id), None)\n",
    "                if existing_product != None:\n",
    "                    print('\\n Follow product is found, please proceed to update')\n",
    "                    print_product(existing_product)\n",
    "                    \n",
    "                    # Take inputs for brand name, product name and product type\n",
    "                    print('\\nPlease provide the updated info for the product attributes')\n",
    "                    print('N.B. If you do not want to update any specific attribute give blank input for the corresponding attribute')\n",
    "                    brand_name = input('Enter Brand Name: ')\n",
    "                    product_name = input('Enter Product Name: ')\n",
    "                    product_type = input('Enter Product Type: ')\n",
    "                    unit_price = input('Enter Unit Price (Non-negetive integer): ')\n",
    "                    \n",
    "                    # Set existing product attributes as default when blank input is given\n",
    "                    if(len(brand_name) == 0):\n",
    "                        brand_name = existing_product['brand']\n",
    "                    \n",
    "                    if(len(product_name) == 0):\n",
    "                        product_name = existing_product['name']\n",
    "                    \n",
    "                    if(len(product_type) == 0):\n",
    "                        product_type = existing_product['type']\n",
    "                    \n",
    "                    if(len(unit_price) == 0):\n",
    "                        unit_price = existing_product['unit_price']\n",
    "                        \n",
    "                    # Sanity check for unit price\n",
    "                    if isinstance(unit_price, str):\n",
    "                        if not unit_price.isnumeric() or int(unit_price) < 0:\n",
    "                            print('Invalid unit price. Unit price must be non-negetive integer')\n",
    "                            return False\n",
    "                    \n",
    "                    # Finally, Update the product\n",
    "                    udpate_product = next((prod for prod in categories[category_name] if prod['product_id'] == product_id), None)\n",
    "                    if udpate_product != None:\n",
    "                        udpate_product['brand'] = brand_name\n",
    "                        udpate_product['name'] = product_name\n",
    "                        udpate_product['type'] = product_type\n",
    "                        udpate_product['unit_price'] = int(unit_price)\n",
    "                        \n",
    "                        print('\\nProduct List After Update')\n",
    "                        print_category_products(category_name)\n",
    "                        return True\n",
    "                    \n",
    "                    else:\n",
    "                        print('\\nFailed to update product, please try again')\n",
    "                        return False\n",
    "                    \n",
    "                else:\n",
    "                    print('Product ID \\\"{}\\\" not found in Category \\\"{}\\\"'.format(product_id, category_name))\n",
    "                    return False\n",
    "                \n",
    "            else:\n",
    "                print('Product ID \\\"{}\\\" not found in Category \\\"{}\\\"'.format(product_id, category_name))\n",
    "                return False\n",
    "        else:\n",
    "            print('Category \\\"{}\\\" not found. Please try again'.format(category_name))\n",
    "            return False\n",
    "    else:\n",
    "        return False"
   ]
  },
  {
   "cell_type": "markdown",
   "id": "c19ed4cf-fbfb-462d-9c8c-469ebf6f3cf6",
   "metadata": {},
   "source": [
    "#### Delete a product from a category (Admin login required)"
   ]
  },
  {
   "cell_type": "code",
   "execution_count": 93,
   "id": "d15b5657-022e-4a75-9aad-d5efe2002528",
   "metadata": {},
   "outputs": [],
   "source": [
    "def delete_category_product():\n",
    "    if check_admin():\n",
    "        all_categories = categories.keys()\n",
    "        print('\\nDelete a product from any one of the following categories\\n{}'.format(', '.join(all_categories)))\n",
    "        category_name = input('Enter category: ')\n",
    "        # Check whether the category name provided exists or not\n",
    "        if category_name in categories:\n",
    "            # All product ids from the given category\n",
    "            product_id_list = list(map(lambda x: x['product_id'], categories[category_name]))\n",
    "            # If a category has no product, then return\n",
    "            if len(product_id_list) == 0:\n",
    "                print('No product found in Category \\\"{}\\\"'.format(category_name))\n",
    "                return False\n",
    "            \n",
    "            # Print all the category products for the reference of admin to update one\n",
    "            print_category_products(category_name)\n",
    "            \n",
    "            delete_product_id = input('Enter the Product ID of the Product to be deleted: ')\n",
    "            \n",
    "            if delete_product_id in product_id_list:\n",
    "                for index in range(len(categories[category_name])):\n",
    "                    if categories[category_name][index]['product_id'] == delete_product_id:\n",
    "                        del categories[category_name][index]\n",
    "                        print('Product deleted successfully from Category \\\"{}\\\"'.format(category_name))\n",
    "                        print('\\n Category after deletion of the product is as below:')\n",
    "                        print_category_products(category_name)\n",
    "                        return True\n",
    "                \n",
    "            else:\n",
    "                print('No product found with Product ID \\\"{}\\\"'.format(delete_product_id))\n",
    "                return False\n",
    "        else:\n",
    "            print('Category \\\"{}\\\" not found. Please try again'.format(category_name))\n",
    "            return False\n",
    "    else:\n",
    "        return False"
   ]
  },
  {
   "cell_type": "markdown",
   "id": "7983d443-1c1c-4856-8d27-2194d513034a",
   "metadata": {},
   "source": [
    "#### Show Orders of All Users (Admin login required)"
   ]
  },
  {
   "cell_type": "code",
   "execution_count": 94,
   "id": "e7b9283e-4c0a-4211-acb6-d16b2d424381",
   "metadata": {},
   "outputs": [],
   "source": [
    "def show_all_users_orders():\n",
    "    if check_admin():\n",
    "        username_list =  list(map(lambda item: item['username'], list(filter(lambda user: user['username'] != 'Admin', users))))\n",
    "        if len(username_list) > 0:\n",
    "            for username in username_list:\n",
    "                print_user_orders(username)\n",
    "        else:\n",
    "            print('No user found')\n",
    "        return True\n",
    "    \n",
    "    else:\n",
    "        return False"
   ]
  },
  {
   "cell_type": "markdown",
   "id": "1ce31f15-0d73-404e-862e-5593fd6a3fc9",
   "metadata": {},
   "source": [
    "#### Delete User (Admin login required)"
   ]
  },
  {
   "cell_type": "code",
   "execution_count": 95,
   "id": "96af6247-6898-481d-a524-ba286bc904fb",
   "metadata": {},
   "outputs": [],
   "source": [
    "def delete_user():\n",
    "    if check_admin():\n",
    "        username = input('Enter the username to be deleted: ')\n",
    "        if(username != 'Admin'):\n",
    "            user_to_be_deleted = None\n",
    "            for user in users:\n",
    "                if user['username'] == username:\n",
    "                    user_to_be_deleted = user\n",
    "                    break\n",
    "            \n",
    "            if user_to_be_deleted != None:\n",
    "                # User found perform deleted\n",
    "                # Remove cart entry for the user to be deleted\n",
    "                user_cart_items = list(filter(lambda item: item['username'] == username, user_carts))\n",
    "                if(len(user_cart_items) > 0):\n",
    "                    for item in user_cart_items:\n",
    "                        user_carts.remove(item)\n",
    "                \n",
    "                # Remove user from logged_in_users list\n",
    "                for logged_in_user in logged_in_users:\n",
    "                    if logged_in_user['username'] == user_to_be_deleted['username']:\n",
    "                        logged_in_users.remove(logged_in_user)\n",
    "                        break\n",
    "                        \n",
    "                # Finally, remove the user from the users list\n",
    "                for user in users:\n",
    "                    if user['username'] == user_to_be_deleted['username']:\n",
    "                        users.remove(user)\n",
    "                        break\n",
    "                \n",
    "                print('\\\"{}\\\" deleted successfully'.format(username))\n",
    "            else:\n",
    "                print('\\\"{}\\\" is not a user'.format(username))\n",
    "        else:\n",
    "            print('Can not delete the Admin user')\n",
    "            return False\n",
    "    else:\n",
    "        return False"
   ]
  },
  {
   "cell_type": "markdown",
   "id": "a013ccc5-877c-4db7-a6c0-ee825c2e1308",
   "metadata": {
    "tags": []
   },
   "source": [
    "### Functions for Shopping (General Users)"
   ]
  },
  {
   "cell_type": "markdown",
   "id": "e4de0906-cd65-49c8-b4f9-8055373e751b",
   "metadata": {},
   "source": [
    "#### Validate User Login"
   ]
  },
  {
   "cell_type": "code",
   "execution_count": 96,
   "id": "23f7bd8c-8e46-409a-87ab-04b2fa387a90",
   "metadata": {},
   "outputs": [],
   "source": [
    "def validate_user_session():\n",
    "    username = input('Enter the Username: ')\n",
    "    \n",
    "    if len(username) == 0:\n",
    "        print('Username can not be empty')\n",
    "        return None\n",
    "    \n",
    "    is_logged_in = check_user_login(username)\n",
    "    \n",
    "    if not is_logged_in:\n",
    "        print('\\\"{}\\\" is not yet logged in'.format(username))\n",
    "        return None\n",
    "        \n",
    "    return username"
   ]
  },
  {
   "cell_type": "markdown",
   "id": "6be85427-4b6a-41b9-9470-08404959bee7",
   "metadata": {
    "tags": []
   },
   "source": [
    "### User Cart Section"
   ]
  },
  {
   "cell_type": "markdown",
   "id": "0da4a140-d854-4941-813e-3a5c99823399",
   "metadata": {},
   "source": [
    "#### Print Cart Info for User (User login required)"
   ]
  },
  {
   "cell_type": "code",
   "execution_count": 97,
   "id": "f121ac0f-97dc-4d7a-bae6-c74af2050d94",
   "metadata": {},
   "outputs": [],
   "source": [
    "def print_user_cart(username):\n",
    "    is_logged_in = check_user_login(username)\n",
    "    \n",
    "    if is_logged_in:\n",
    "        print('\\nCart Info of \\\"{}\\\":\\n'.format(username))\n",
    "        user_cart_items = list(filter(lambda item: item['username'] == username, user_carts))\n",
    "        if(len(user_cart_items) > 0):\n",
    "            print('{:<20} {:<20} {:<20} {:<20} {:<20}'.format('Product ID', 'Product Name', 'Category', 'Unit Price', 'Quantity'))\n",
    "            for prod in user_cart_items:\n",
    "                print('{:<20} {:<20} {:<20} {:<20} {:<20}'.format(prod['product_id'], prod['product_name'], prod['category'], prod['unit_price'], prod['quantity']))\n",
    "        else:\n",
    "            print('No items in cart')\n",
    "    else:\n",
    "        print('\\\"{}\\\" is not yet logged in'.format(username))\n",
    "        return False"
   ]
  },
  {
   "cell_type": "markdown",
   "id": "cfee585e-3fbd-4334-b948-a99a54a0fa83",
   "metadata": {},
   "source": [
    "#### Cart Info for User (User login required)"
   ]
  },
  {
   "cell_type": "code",
   "execution_count": 98,
   "id": "83916870-94e5-4dbe-a065-f1b3fd6709b0",
   "metadata": {},
   "outputs": [],
   "source": [
    "def user_cart_info():\n",
    "    username = validate_user_session()\n",
    "    if username != None:\n",
    "        print_user_cart(username)\n",
    "        return True\n",
    "    else:\n",
    "        return False"
   ]
  },
  {
   "cell_type": "markdown",
   "id": "55e1bd44-fdc4-403d-87dc-12f79be5d29e",
   "metadata": {},
   "source": [
    "#### Add Products to Cart (User login required)"
   ]
  },
  {
   "cell_type": "code",
   "execution_count": 99,
   "id": "0152fd59-777e-4e0e-bdcb-157fa3632c2c",
   "metadata": {},
   "outputs": [],
   "source": [
    "def add_to_cart():\n",
    "    # First take username and validate if the user is logged in or not\n",
    "    username = validate_user_session()\n",
    "    if username != None:\n",
    "        add_more_product = 'Y'\n",
    "        print('\\nChoose from the below avalable products')\n",
    "        print_all_category_products()\n",
    "        print('\\n')\n",
    "        \n",
    "        while add_more_product.upper() == 'Y':\n",
    "            cart_product_id = input('Enter the ID of Product you want to add to your cart: ')\n",
    "            cart_category = None\n",
    "            cart_product = None\n",
    "            cart_item = None\n",
    "            # Check if the product id provided is valid or not\n",
    "            for category in categories:\n",
    "                cart_category = category\n",
    "                for prod in categories[category]:\n",
    "                    if prod['product_id'] == cart_product_id:\n",
    "                        cart_product = prod\n",
    "                        cart_item = {'username': username, 'product_id': prod['product_id'], 'product_name': prod['name'], 'category': cart_category, 'unit_price': prod['unit_price'], 'quantity': 0}\n",
    "                        break\n",
    "            \n",
    "            if  cart_product != None and cart_item != None:\n",
    "                print('\\nProduct found')\n",
    "                print_product(cart_product)\n",
    "                \n",
    "                quantity = input('Enter quantity (Non-negetive integer): ')\n",
    "                if quantity.isnumeric() and int(quantity) > 0:\n",
    "                    # Add the product to the cart for specific username\n",
    "                    cart_item['quantity'] = quantity\n",
    "                    \n",
    "                    # Find the user cart items                    \n",
    "                    existing_cart_item = next((item for item in user_carts if item['username'] == username and item['product_id'] == cart_item['product_id']), None)\n",
    "                    # If the item is already present in the cart then just add the the current quantity with the existing quantity else add the item to the cart\n",
    "                    if existing_cart_item == None:\n",
    "                        user_carts.append(cart_item)\n",
    "                    else:\n",
    "                        existing_cart_item['quantity'] = int(existing_cart_item['quantity']) + int(cart_item['quantity'])\n",
    "                    \n",
    "                    \n",
    "                    print('Product \\\"{}\\\" from category \\\"{}\\\" has been successfully added to the cart!'.format(cart_product['name'], cart_category))\n",
    "                else:\n",
    "                    print('Invalid quantity. Quantity must be non-negetive integer')\n",
    "            else:\n",
    "                print('Product not found with ID \\\"{}\\\"\\n'.format(cart_product_id))\n",
    "                \n",
    "            add_more_product = input('\\nDo you want to add more products to your cart? Enter \\\"Y\\\" to add more: ')\n",
    "            \n",
    "        print_user_cart(username)\n",
    "        return True\n",
    "    else:\n",
    "        return False"
   ]
  },
  {
   "cell_type": "markdown",
   "id": "94ca02d3-c4ac-48dd-aecd-77d03438b830",
   "metadata": {},
   "source": [
    "#### Delete Specific Items from User's Cart (User login required)"
   ]
  },
  {
   "cell_type": "code",
   "execution_count": 100,
   "id": "f8d24037-fb56-46f6-91fa-a2c8efca73c9",
   "metadata": {},
   "outputs": [],
   "source": [
    "def remove_cart_items():\n",
    "    # First take username and validate if the user is logged in or not\n",
    "    username = validate_user_session()\n",
    "    if username != None:\n",
    "        user_cart_items = list(filter(lambda item: item['username'] == username, user_carts))\n",
    "        delete_more_product = 'Y'\n",
    "        print_user_cart(username)\n",
    "        print('\\n')\n",
    "        while(delete_more_product.upper() == 'Y'):\n",
    "            if(len(user_cart_items) == 0):\n",
    "                print('No items in cart found for User \\\"{}\\\"'.format(username))\n",
    "                break\n",
    "            \n",
    "            found_product = None\n",
    "            cart_product_id = input('Enter the ID of Product you want to delete from your cart: ')\n",
    "            for item in user_cart_items:\n",
    "                if item['product_id'] == cart_product_id:\n",
    "                    found_product = item\n",
    "                    break\n",
    "            \n",
    "            if found_product != None:\n",
    "                user_carts.remove(found_product)\n",
    "                print('Product successfully removed from cart\"\\n')\n",
    "            else:\n",
    "                print('Product not found with ID \\\"{}\\\"\\n'.format(cart_product_id))\n",
    "            \n",
    "            \n",
    "            user_cart_items = list(filter(lambda item: item['username'] == username, user_carts))\n",
    "            print('\\nUpdated Cart info after item deletion')\n",
    "            print_user_cart(username)\n",
    "            \n",
    "            delete_more_product = input('\\nDo you want to delete more products to your cart? Enter \\\"Y\\\" to delete more: ')\n",
    "        \n",
    "        return True\n",
    "    else:\n",
    "        return False"
   ]
  },
  {
   "cell_type": "markdown",
   "id": "ad3955b5-a3c4-40b3-9f85-13cfe4473fde",
   "metadata": {},
   "source": [
    "#### Clear User Cart (User Login required)"
   ]
  },
  {
   "cell_type": "code",
   "execution_count": 101,
   "id": "045fd6a7-2db6-4fa5-a685-5ff852e0d378",
   "metadata": {},
   "outputs": [],
   "source": [
    "# Clears the cart items for the given logged in user\n",
    "def clear_user_cart():\n",
    "    # First take username and validate if the user is logged in or not\n",
    "    username = validate_user_session()\n",
    "    if username != None:\n",
    "        user_cart_items = list(filter(lambda item: item['username'] == username, user_carts))\n",
    "        if(len(user_cart_items) > 0):\n",
    "            for item in user_cart_items:\n",
    "                user_carts.remove(item)\n",
    "            print('Successfully deleted all the items from the cart of \\\"{}\\\"'.format(username))\n",
    "        else:\n",
    "            print('Cart of \\\"{}\\\" is already empty'.format(username))\n",
    "    else:\n",
    "        return False"
   ]
  },
  {
   "cell_type": "markdown",
   "id": "c9359ec5-c3df-4325-9215-c50068c5beb4",
   "metadata": {
    "tags": []
   },
   "source": [
    "### User Order Section"
   ]
  },
  {
   "cell_type": "markdown",
   "id": "d5255690-c65a-4d48-800a-a48ed51cc011",
   "metadata": {
    "tags": []
   },
   "source": [
    "#### Print User Order(s)"
   ]
  },
  {
   "cell_type": "code",
   "execution_count": 102,
   "id": "48b0e184-1c2c-4960-a135-0d190b8ed2f4",
   "metadata": {},
   "outputs": [],
   "source": [
    "def print_user_orders(username):\n",
    "    user_order_list = list(filter(lambda item: item['username'] == username, user_orders))\n",
    "    if len(user_order_list) > 0:\n",
    "        print('\\nOrder List of \\\"{}\\\"'.format(username))\n",
    "        for order in user_order_list:\n",
    "            print('\\nOrder ID: {}, Order Date: {}, Order Total: {}, Payment Method: {}'.format(order['order_id'], order['order_time'], order['order_total'], order['payment_method']))\n",
    "            print('Order Items:')\n",
    "            order_items = order['order_items']\n",
    "            if len(order_items) > 0:\n",
    "                print('{:<20} {:<20} {:<20} {:<20} {:<20}'.format('Product ID', 'Product Name', 'Category', 'Unit Price', 'Quantity'))\n",
    "                for item in order_items:\n",
    "                    print('{:<20} {:<20} {:<20} {:<20} {:<20}'.format(item['product_id'], item['product_name'], item['category'], item['unit_price'], item['quantity']))\n",
    "            else:\n",
    "                print('No order items found')\n",
    "    else:\n",
    "        print('No order found for \\\"{}\\\"'.format(username))"
   ]
  },
  {
   "cell_type": "markdown",
   "id": "5e18123a-ca3e-4456-9687-a7d0dd1fd2a8",
   "metadata": {
    "tags": []
   },
   "source": [
    "#### Show User Order(s) (User login required)"
   ]
  },
  {
   "cell_type": "code",
   "execution_count": 103,
   "id": "b7a519b7-d0d2-48c1-aaf9-595a0b61e86b",
   "metadata": {},
   "outputs": [],
   "source": [
    "def show_user_orders():\n",
    "    # First take username and validate if the user is logged in or not\n",
    "    username = validate_user_session()\n",
    "    if username != None:\n",
    "        print_user_orders(username)\n",
    "        return True\n",
    "    else:\n",
    "        return False"
   ]
  },
  {
   "cell_type": "markdown",
   "id": "dd5f2f2c-199d-4395-9dd2-8e7c57c59db1",
   "metadata": {
    "tags": []
   },
   "source": [
    "#### Place Order from Cart (User login required)"
   ]
  },
  {
   "cell_type": "code",
   "execution_count": 105,
   "id": "c84cd60d-f54d-433a-83c9-8895551b00d0",
   "metadata": {},
   "outputs": [],
   "source": [
    "import datetime\n",
    "\n",
    "def place_order():\n",
    "    # First take username and validate if the user is logged in or not\n",
    "    username = validate_user_session()\n",
    "    if username != None:\n",
    "        # Check whether user has any item(s) added to his/her cart or not\n",
    "        user_cart_items = list(filter(lambda item: item['username'] == username, user_carts))\n",
    "        if len(user_cart_items) > 0:\n",
    "            # Check all the products in the cart still exists or not\n",
    "            # Use case: If a product from a category is added to a user cart,\n",
    "            # and then the product is deleted or the category itself is deleted along with all the products in it by the Admin\n",
    "            deleted_products_from_cart = []\n",
    "            for item in user_cart_items:\n",
    "                # First check whether cart item category exists or not, if category does not exist then add cart item to deleted_products_from_cart\n",
    "                if not item['category'] in categories:\n",
    "                    deleted_products_from_cart.append({'product_id': item['product_id'], 'product_name': item['product_name'], 'category': item['category']})\n",
    "                else:\n",
    "                    # Then check whether the product exist in the category or not\n",
    "                    product_id_list = list(map(lambda x: x['product_id'], categories[item['category']]))\n",
    "                    if not item['product_id'] in product_id_list:\n",
    "                        deleted_products_from_cart.append({'product_id': item['product_id'], 'product_name': item['product_name'], 'category': item['category']})\n",
    "                    \n",
    "            if(len(deleted_products_from_cart) > 0):\n",
    "                # There are deleted products\n",
    "                print('The following product(s) in the cart not longer exists, please remove them from the cart before placing your order')\n",
    "                print('{:<20} {:<20} {:<20}'.format('Category', 'Product ID', 'Product Name'))\n",
    "                for deleted_product in deleted_products_from_cart:\n",
    "                    print('{:<20} {:<20} {:<20}'.format(deleted_product['category'], deleted_product['product_id'], deleted_product['product_name']))\n",
    "                    \n",
    "                return False\n",
    "                \n",
    "            order_items = []\n",
    "            total_amount_payable = 0\n",
    "            for item in user_cart_items:\n",
    "                cart_item_price = int(item['quantity']) * int(item['unit_price'])\n",
    "                total_amount_payable += cart_item_price\n",
    "                order_items.append({'product_id': item['product_id'], 'product_name': item['product_name'], 'category': item['category'], 'unit_price': item['unit_price'], 'quantity': item['quantity']})\n",
    "                \n",
    "            # Choose Payment Method and Pay\n",
    "            print_user_cart(username)\n",
    "            print('\\nTotal Payable amount is: {}'.format(total_amount_payable))\n",
    "            print('\\nPlease choose from the below payment methods to place your order')\n",
    "            print('{}'.format(', '.join(payments_methods)))\n",
    "            payment_mode = input('Enter Payment Mode: ')\n",
    "            if payment_mode in payments_methods:\n",
    "                # Create an order entry for the user\n",
    "                order_id = 'order-00{}'.format(len(user_orders) + 1)\n",
    "                user_orders.append({'order_id': order_id, 'username': username, 'order_time': datetime.datetime.now(), 'order_total': total_amount_payable, 'payment_method': payment_mode, 'order_items': order_items})\n",
    "                 # Clear user cart\n",
    "                for item in user_cart_items:\n",
    "                    user_carts.remove(item)\n",
    "                \n",
    "                print('Order placed successfully for \\\"{}\\\". Thank You for Shopping with us'.format(username))\n",
    "               \n",
    "            else:\n",
    "                print('\\nOops..! Invalid Payment method, please try again')\n",
    "                return False\n",
    "            \n",
    "        else:\n",
    "            print('No cart item found for \\\"{}\\\"'.format(username))\n",
    "            \n",
    "        return True\n",
    "    else:\n",
    "        return False"
   ]
  },
  {
   "cell_type": "markdown",
   "id": "86d48d55-9d41-4129-a33e-8797f44ebfbd",
   "metadata": {},
   "source": [
    "#### ===============================================================================================================================\n",
    "#### ==============================================================================================================================="
   ]
  },
  {
   "cell_type": "markdown",
   "id": "5773f8a5-c920-4c0a-b673-816891538ae7",
   "metadata": {
    "tags": []
   },
   "source": [
    "## Function Calls"
   ]
  },
  {
   "cell_type": "markdown",
   "id": "69227fca-f0e8-4ea3-8f96-226a492193f8",
   "metadata": {},
   "source": [
    "### User Management funtion calls"
   ]
  },
  {
   "cell_type": "markdown",
   "id": "2cb7e958-b252-4fd9-9354-c9f91ba2b622",
   "metadata": {},
   "source": [
    "#### Call user_sign_up (Multiple users can sign up into the system)"
   ]
  },
  {
   "cell_type": "code",
   "execution_count": 108,
   "id": "33ac46e3-c551-4507-b830-a3818e657ff7",
   "metadata": {},
   "outputs": [
    {
     "name": "stdin",
     "output_type": "stream",
     "text": [
      "Enter Username:  Saurav\n",
      "Enter Password:  Password@1234\n",
      "Re-confirm Password:  Password@1234\n"
     ]
    },
    {
     "name": "stdout",
     "output_type": "stream",
     "text": [
      "Congratulation, user successfully created. Please login to use the shopping application.\n"
     ]
    }
   ],
   "source": [
    "# Call user_sign_up() for user 1\n",
    "# This create a new user Saurav in the system\n",
    "user_sign_up()"
   ]
  },
  {
   "cell_type": "code",
   "execution_count": 109,
   "id": "53914a22-1fae-47b7-b7d4-06fc9aa53970",
   "metadata": {},
   "outputs": [
    {
     "name": "stdin",
     "output_type": "stream",
     "text": [
      "Enter Username:  SG\n",
      "Enter Password:  12345678\n",
      "Re-confirm Password:  12345678\n"
     ]
    },
    {
     "name": "stdout",
     "output_type": "stream",
     "text": [
      "Invalid password.\n",
      "Passoword format required:\n",
      "1) The password must contain atleast one upper case, one lower case, one number, and one special character from the followings: ! @ # $ % & _ .\n",
      "2) The minimum length of the must password must be 6 characters and the maximum length can be 20 characters\n"
     ]
    }
   ],
   "source": [
    "# Call user_sign_up() for user 2\n",
    "# Use case when the user enters an invalid password\n",
    "user_sign_up()"
   ]
  },
  {
   "cell_type": "code",
   "execution_count": 110,
   "id": "666c8b6d-f638-4c6d-9560-18c4ccd900b0",
   "metadata": {},
   "outputs": [
    {
     "name": "stdin",
     "output_type": "stream",
     "text": [
      "Enter Username:  SG\n",
      "Enter Password:  Password@1234\n",
      "Re-confirm Password:  Password@1234\n"
     ]
    },
    {
     "name": "stdout",
     "output_type": "stream",
     "text": [
      "Congratulation, user successfully created. Please login to use the shopping application.\n"
     ]
    }
   ],
   "source": [
    "# Call user_sign_up() for user 2\n",
    "# With correct password format\n",
    "# This creates another new user SG in the system\n",
    "user_sign_up()"
   ]
  },
  {
   "cell_type": "markdown",
   "id": "ee9b7cbc-764e-474c-a6c7-6b30c3a8c2ce",
   "metadata": {},
   "source": [
    "#### Print users list"
   ]
  },
  {
   "cell_type": "code",
   "execution_count": 111,
   "id": "b021777b-1644-4794-8778-6912c281e347",
   "metadata": {},
   "outputs": [
    {
     "name": "stdout",
     "output_type": "stream",
     "text": [
      "[{'username': 'Admin', 'password': 'Admin@1234'}, {'username': 'Saurav', 'password': 'Password@1234'}, {'username': 'SG', 'password': 'Password@1234'}]\n"
     ]
    }
   ],
   "source": [
    "# Here, we can see that there are total 3 users in the system, the Admin user being the default one which is pre-seeded in the system\n",
    "print(users)"
   ]
  },
  {
   "cell_type": "markdown",
   "id": "eabfa42d-4380-4233-ba49-9b05531a0115",
   "metadata": {},
   "source": [
    "#### Call user_login"
   ]
  },
  {
   "cell_type": "code",
   "execution_count": 116,
   "id": "fe132740-7b33-4b71-8ede-d257094ba171",
   "metadata": {},
   "outputs": [
    {
     "name": "stdin",
     "output_type": "stream",
     "text": [
      "Enter Username:  Admin\n",
      "Enter Password:  Admin@1234\n"
     ]
    },
    {
     "name": "stdout",
     "output_type": "stream",
     "text": [
      "Hello Admin, welcome to Shopping Cart Application!\n"
     ]
    }
   ],
   "source": [
    "# Any user including the Admin needs to log into the system first to do their respective operations\n",
    "# Log in as Admin\n",
    "user_login()"
   ]
  },
  {
   "cell_type": "markdown",
   "id": "d8f08e8c-9b92-4959-a3b0-204826c9cf3e",
   "metadata": {},
   "source": [
    "#### Print Logged in user list"
   ]
  },
  {
   "cell_type": "code",
   "execution_count": 114,
   "id": "5c8b7c4c-059e-4144-abe4-7ccf9e72f163",
   "metadata": {},
   "outputs": [
    {
     "name": "stdout",
     "output_type": "stream",
     "text": [
      "[{'username': 'Admin', 'password': 'Admin@1234'}]\n"
     ]
    }
   ],
   "source": [
    "# Here we can see there is only one user logged in the system which is the Admin\n",
    "print(logged_in_users)"
   ]
  },
  {
   "cell_type": "markdown",
   "id": "8da14ee2-9fa1-430e-9210-68191c06c31d",
   "metadata": {},
   "source": [
    "#### Call user_logout"
   ]
  },
  {
   "cell_type": "code",
   "execution_count": 121,
   "id": "4daa64f5-4c62-4da1-b451-0ca7d784324c",
   "metadata": {},
   "outputs": [
    {
     "name": "stdin",
     "output_type": "stream",
     "text": [
      "Enter username to logout:  Admin\n"
     ]
    },
    {
     "name": "stdout",
     "output_type": "stream",
     "text": [
      "Admin has been successfully logged out of the system\n"
     ]
    }
   ],
   "source": [
    "# This function logs out the user from the system\n",
    "user_logout()"
   ]
  },
  {
   "cell_type": "code",
   "execution_count": 122,
   "id": "88a64a9c-a637-4521-93ae-d93d7352d175",
   "metadata": {},
   "outputs": [
    {
     "name": "stdout",
     "output_type": "stream",
     "text": [
      "[]\n"
     ]
    }
   ],
   "source": [
    "# Here we see that no more user is logged in the system\n",
    "# Logged in userlist is empty\n",
    "print(logged_in_users)"
   ]
  },
  {
   "cell_type": "code",
   "execution_count": 123,
   "id": "6ad79882-4fa3-49c7-a655-5b2145dfaeeb",
   "metadata": {},
   "outputs": [
    {
     "name": "stdin",
     "output_type": "stream",
     "text": [
      "Enter Username:  Admin\n",
      "Enter Password:  Admin@1234\n"
     ]
    },
    {
     "name": "stdout",
     "output_type": "stream",
     "text": [
      "Hello Admin, welcome to Shopping Cart Application!\n"
     ]
    }
   ],
   "source": [
    "# Again we need to log into the system as Admin as logout is called previously for Admin\n",
    "user_login()"
   ]
  },
  {
   "cell_type": "markdown",
   "id": "cf3a6367-1333-4598-a0f4-5ee251fd7bb0",
   "metadata": {},
   "source": [
    "#### Print Logged in user list"
   ]
  },
  {
   "cell_type": "code",
   "execution_count": 125,
   "id": "4da03e74-23b9-401f-84e9-69b612e5d475",
   "metadata": {},
   "outputs": [
    {
     "name": "stdout",
     "output_type": "stream",
     "text": [
      "[{'username': 'Admin', 'password': 'Admin@1234'}]\n"
     ]
    }
   ],
   "source": [
    "# Here we see again there is one user in the logged_in_users list which is the Admin, post the above login call\n",
    "print(logged_in_users)"
   ]
  },
  {
   "cell_type": "markdown",
   "id": "1ebe8000-b95d-418f-9890-c77f3b854f28",
   "metadata": {
    "tags": []
   },
   "source": [
    "### Inventory Management function calls (only Admin user can modify inventory)\n",
    "#### (for every inventory operation the user needs to verify himself/herself as Admin first)"
   ]
  },
  {
   "cell_type": "markdown",
   "id": "947c0546-e851-4fe8-830a-5735e6390fb8",
   "metadata": {},
   "source": [
    "#### Add New Category (Admin access only)"
   ]
  },
  {
   "cell_type": "code",
   "execution_count": 126,
   "id": "890797d6-7daa-4a11-b840-faccd3c5c2f6",
   "metadata": {},
   "outputs": [
    {
     "name": "stdin",
     "output_type": "stream",
     "text": [
      "Enter admin username:  Admin\n",
      "Enter New Category:  furniture\n"
     ]
    },
    {
     "name": "stdout",
     "output_type": "stream",
     "text": [
      "Category \"furniture\" successfully added to the inventory\n"
     ]
    },
    {
     "data": {
      "text/plain": [
       "True"
      ]
     },
     "execution_count": 126,
     "metadata": {},
     "output_type": "execute_result"
    }
   ],
   "source": [
    "# Add a category the user need to verify as Admin and the system checks whether Admin is logged into the system or not\n",
    "# Adding a new category \"furniture\"\n",
    "add_category()"
   ]
  },
  {
   "cell_type": "markdown",
   "id": "a1ef65ca-ece8-4500-af86-92045cb18310",
   "metadata": {},
   "source": [
    "#### Show Categories (Admin access only)"
   ]
  },
  {
   "cell_type": "code",
   "execution_count": 129,
   "id": "d0dc5907-06c5-40de-8034-d73f3a0ac390",
   "metadata": {},
   "outputs": [
    {
     "name": "stdout",
     "output_type": "stream",
     "text": [
      "\n",
      "Category - footwear\n",
      "Product ID           Brand                Product Name         Product Type         Unit Price          \n",
      "footwear-001         Crocs                LiteRide 360         Clogs                2000                \n",
      "footwear-002         Nike                 Air Jordan           Sneakers             4000                \n",
      "\n",
      "Category - clothing\n",
      "Product ID           Brand                Product Name         Product Type         Unit Price          \n",
      "clothing-001         Lacoste              Sport 3D             T-Shirt              3500                \n",
      "clothing-002         Peter England        Slim Fit             Formal Shirt         1500                \n",
      "\n",
      "Category - electronics\n",
      "Product ID           Brand                Product Name         Product Type         Unit Price          \n",
      "electronics-001      Apple                iPhone 16 Pro Max    Mobile               75000               \n",
      "electronics-002      Samsung              55 OLED 4K TV        TV                   40000               \n",
      "\n",
      "Category - furniture\n",
      "Product ID           Brand                Product Name         Product Type         Unit Price          \n"
     ]
    }
   ],
   "source": [
    "# Now we see a new category \"furniture\" is being added to the sytem along with the other pre-seeded categories\n",
    "# However, the category does no contain any product yet, which will be added in the forth coming function calls\n",
    "print_all_category_products()"
   ]
  },
  {
   "cell_type": "markdown",
   "id": "8290a4db-5f9a-438e-a1db-30d24831bd23",
   "metadata": {},
   "source": [
    "#### Update Category Name (Admin access only)"
   ]
  },
  {
   "cell_type": "code",
   "execution_count": 130,
   "id": "cac35234-8864-4c2c-80da-883acb940a12",
   "metadata": {},
   "outputs": [
    {
     "name": "stdin",
     "output_type": "stream",
     "text": [
      "Enter admin username:  Admin\n",
      "Enter Existing Category Name:  furniture\n",
      "Enter New Category Name:  furnitures\n"
     ]
    },
    {
     "name": "stdout",
     "output_type": "stream",
     "text": [
      "Category name successfully updated from \"furniture\" to \"furnitures\"\n"
     ]
    },
    {
     "data": {
      "text/plain": [
       "True"
      ]
     },
     "execution_count": 130,
     "metadata": {},
     "output_type": "execute_result"
    }
   ],
   "source": [
    "# This function updates the name of any existing category\n",
    "# Here we see that the the category \"furniture\" is renamed to \"furnitures\"\n",
    "update_category()"
   ]
  },
  {
   "cell_type": "markdown",
   "id": "e67d5bbe-ebda-4b58-bd23-1947e57807ed",
   "metadata": {},
   "source": [
    "#### Print Inventory Stock (Admin access only)"
   ]
  },
  {
   "cell_type": "code",
   "execution_count": 132,
   "id": "b0f6a758-6ad1-4710-b83c-65bb7b553310",
   "metadata": {},
   "outputs": [
    {
     "name": "stdout",
     "output_type": "stream",
     "text": [
      "\n",
      "Category - footwear\n",
      "Product ID           Brand                Product Name         Product Type         Unit Price          \n",
      "footwear-001         Crocs                LiteRide 360         Clogs                2000                \n",
      "footwear-002         Nike                 Air Jordan           Sneakers             4000                \n",
      "\n",
      "Category - clothing\n",
      "Product ID           Brand                Product Name         Product Type         Unit Price          \n",
      "clothing-001         Lacoste              Sport 3D             T-Shirt              3500                \n",
      "clothing-002         Peter England        Slim Fit             Formal Shirt         1500                \n",
      "\n",
      "Category - electronics\n",
      "Product ID           Brand                Product Name         Product Type         Unit Price          \n",
      "electronics-001      Apple                iPhone 16 Pro Max    Mobile               75000               \n",
      "electronics-002      Samsung              55 OLED 4K TV        TV                   40000               \n",
      "\n",
      "Category - furnitures\n",
      "Product ID           Brand                Product Name         Product Type         Unit Price          \n"
     ]
    }
   ],
   "source": [
    "# Printing the inventory to verify the change\n",
    "print_all_category_products()"
   ]
  },
  {
   "cell_type": "code",
   "execution_count": 139,
   "id": "133f7d10-fd42-4f7f-8a83-b615790ef944",
   "metadata": {},
   "outputs": [
    {
     "name": "stdin",
     "output_type": "stream",
     "text": [
      "Enter admin username:  Admin\n",
      "Enter New Category:  common\n"
     ]
    },
    {
     "name": "stdout",
     "output_type": "stream",
     "text": [
      "Category \"common\" successfully added to the inventory\n"
     ]
    },
    {
     "data": {
      "text/plain": [
       "True"
      ]
     },
     "execution_count": 139,
     "metadata": {},
     "output_type": "execute_result"
    }
   ],
   "source": [
    "# Adding another category \"common\" to the system\n",
    "add_category()"
   ]
  },
  {
   "cell_type": "code",
   "execution_count": 140,
   "id": "32cff703-900f-46dc-a071-54409038e348",
   "metadata": {},
   "outputs": [
    {
     "name": "stdout",
     "output_type": "stream",
     "text": [
      "\n",
      "Category - footwear\n",
      "Product ID           Brand                Product Name         Product Type         Unit Price          \n",
      "footwear-001         Crocs                LiteRide 360         Clogs                2000                \n",
      "footwear-002         Nike                 Air Jordan           Sneakers             4000                \n",
      "\n",
      "Category - clothing\n",
      "Product ID           Brand                Product Name         Product Type         Unit Price          \n",
      "clothing-001         Lacoste              Sport 3D             T-Shirt              3500                \n",
      "clothing-002         Peter England        Slim Fit             Formal Shirt         1500                \n",
      "\n",
      "Category - electronics\n",
      "Product ID           Brand                Product Name         Product Type         Unit Price          \n",
      "electronics-001      Apple                iPhone 16 Pro Max    Mobile               75000               \n",
      "electronics-002      Samsung              55 OLED 4K TV        TV                   40000               \n",
      "\n",
      "Category - furnitures\n",
      "Product ID           Brand                Product Name         Product Type         Unit Price          \n",
      "\n",
      "Category - common\n",
      "Product ID           Brand                Product Name         Product Type         Unit Price          \n"
     ]
    }
   ],
   "source": [
    "# Printing the inventory to check whether category \"common\" is added to the inventory or not\n",
    "print_all_category_products()"
   ]
  },
  {
   "cell_type": "markdown",
   "id": "35443339-121d-46a6-ab2e-7398041f860b",
   "metadata": {},
   "source": [
    "#### Delete Category (Admin access only)"
   ]
  },
  {
   "cell_type": "code",
   "execution_count": 141,
   "id": "1535b84d-4aae-4dfe-a288-5bdeefe60910",
   "metadata": {},
   "outputs": [
    {
     "name": "stdin",
     "output_type": "stream",
     "text": [
      "Enter admin username:  Admin\n"
     ]
    },
    {
     "name": "stdout",
     "output_type": "stream",
     "text": [
      "Delete any category following categories\n",
      "footwear, clothing, electronics, furnitures, common\n"
     ]
    },
    {
     "name": "stdin",
     "output_type": "stream",
     "text": [
      "Enter Category Name:  common\n"
     ]
    },
    {
     "name": "stdout",
     "output_type": "stream",
     "text": [
      "Category \"common\" deleted successfully\n"
     ]
    },
    {
     "data": {
      "text/plain": [
       "True"
      ]
     },
     "execution_count": 141,
     "metadata": {},
     "output_type": "execute_result"
    }
   ],
   "source": [
    "# Deleting a category from the system\n",
    "# Deleting a category will delete all the products in the category as well\n",
    "delete_category()"
   ]
  },
  {
   "cell_type": "markdown",
   "id": "256bd1e0-c6af-48bd-9bb1-0ed36635e632",
   "metadata": {},
   "source": [
    "#### Print Inventory Stock (Admin access only)"
   ]
  },
  {
   "cell_type": "code",
   "execution_count": 142,
   "id": "ccccface-0a26-416d-bc9d-c83a4ceeff97",
   "metadata": {},
   "outputs": [
    {
     "name": "stdout",
     "output_type": "stream",
     "text": [
      "\n",
      "Category - footwear\n",
      "Product ID           Brand                Product Name         Product Type         Unit Price          \n",
      "footwear-001         Crocs                LiteRide 360         Clogs                2000                \n",
      "footwear-002         Nike                 Air Jordan           Sneakers             4000                \n",
      "\n",
      "Category - clothing\n",
      "Product ID           Brand                Product Name         Product Type         Unit Price          \n",
      "clothing-001         Lacoste              Sport 3D             T-Shirt              3500                \n",
      "clothing-002         Peter England        Slim Fit             Formal Shirt         1500                \n",
      "\n",
      "Category - electronics\n",
      "Product ID           Brand                Product Name         Product Type         Unit Price          \n",
      "electronics-001      Apple                iPhone 16 Pro Max    Mobile               75000               \n",
      "electronics-002      Samsung              55 OLED 4K TV        TV                   40000               \n",
      "\n",
      "Category - furnitures\n",
      "Product ID           Brand                Product Name         Product Type         Unit Price          \n"
     ]
    }
   ],
   "source": [
    "# No we can see that the category \"common\" has been removed from the inventory\n",
    "print_all_category_products()"
   ]
  },
  {
   "cell_type": "markdown",
   "id": "7bb7aa63-4ec4-4fb3-a5d6-5498d73366f4",
   "metadata": {},
   "source": [
    "#### Add a Product to a Category (Admin access only)"
   ]
  },
  {
   "cell_type": "code",
   "execution_count": 144,
   "id": "8c801030-27dd-49a7-984f-a76dbc310e7c",
   "metadata": {},
   "outputs": [
    {
     "name": "stdin",
     "output_type": "stream",
     "text": [
      "Enter admin username:  Admin\n"
     ]
    },
    {
     "name": "stdout",
     "output_type": "stream",
     "text": [
      "Add a product to any one of the following categories\n",
      "footwear, clothing, electronics, furnitures\n"
     ]
    },
    {
     "name": "stdin",
     "output_type": "stream",
     "text": [
      "Enter Category Name:  furnitures\n"
     ]
    },
    {
     "name": "stdout",
     "output_type": "stream",
     "text": [
      "Provide the new product details for Category \"furnitures\"\n"
     ]
    },
    {
     "name": "stdin",
     "output_type": "stream",
     "text": [
      "Enter Brand Name:  Godrej Interio\n",
      "Enter Product Name:  King Bed\n",
      "Enter Product Type:  Bed\n",
      "Enter Unit Price (Non-negetive integer):  55000\n"
     ]
    },
    {
     "name": "stdout",
     "output_type": "stream",
     "text": [
      "Product successfully added to category \"furnitures\"\n",
      "\n",
      "Category - furnitures\n",
      "Product ID           Brand                Product Name         Product Type         Unit Price          \n",
      "furnitures-001       Godrej Interio       King Bed             Bed                  55000               \n"
     ]
    },
    {
     "data": {
      "text/plain": [
       "True"
      ]
     },
     "execution_count": 144,
     "metadata": {},
     "output_type": "execute_result"
    }
   ],
   "source": [
    "# Add a product a category\n",
    "# Here we are adding a product to the category \"furnitures\"\n",
    "add_category_product()"
   ]
  },
  {
   "cell_type": "markdown",
   "id": "9732f9cc-6e03-405e-97c4-cef12d58b2b7",
   "metadata": {},
   "source": [
    "#### Print Inventory Stock (Admin access only)"
   ]
  },
  {
   "cell_type": "code",
   "execution_count": 145,
   "id": "53e43b5e-2162-499a-8274-8e23c94f0d94",
   "metadata": {},
   "outputs": [
    {
     "name": "stdout",
     "output_type": "stream",
     "text": [
      "\n",
      "Category - footwear\n",
      "Product ID           Brand                Product Name         Product Type         Unit Price          \n",
      "footwear-001         Crocs                LiteRide 360         Clogs                2000                \n",
      "footwear-002         Nike                 Air Jordan           Sneakers             4000                \n",
      "\n",
      "Category - clothing\n",
      "Product ID           Brand                Product Name         Product Type         Unit Price          \n",
      "clothing-001         Lacoste              Sport 3D             T-Shirt              3500                \n",
      "clothing-002         Peter England        Slim Fit             Formal Shirt         1500                \n",
      "\n",
      "Category - electronics\n",
      "Product ID           Brand                Product Name         Product Type         Unit Price          \n",
      "electronics-001      Apple                iPhone 16 Pro Max    Mobile               75000               \n",
      "electronics-002      Samsung              55 OLED 4K TV        TV                   40000               \n",
      "\n",
      "Category - furnitures\n",
      "Product ID           Brand                Product Name         Product Type         Unit Price          \n",
      "furnitures-001       Godrej Interio       King Bed             Bed                  55000               \n"
     ]
    }
   ],
   "source": [
    "# Printing inventory list the check the product entry in category \"furnitures\"\n",
    "print_all_category_products()"
   ]
  },
  {
   "cell_type": "code",
   "execution_count": 146,
   "id": "3d97fd6e-65e9-4413-8b8a-d4353ff776f3",
   "metadata": {},
   "outputs": [
    {
     "name": "stdin",
     "output_type": "stream",
     "text": [
      "Enter admin username:  Admin\n"
     ]
    },
    {
     "name": "stdout",
     "output_type": "stream",
     "text": [
      "Add a product to any one of the following categories\n",
      "footwear, clothing, electronics, furnitures\n"
     ]
    },
    {
     "name": "stdin",
     "output_type": "stream",
     "text": [
      "Enter Category Name:  furnitures\n"
     ]
    },
    {
     "name": "stdout",
     "output_type": "stream",
     "text": [
      "Provide the new product details for Category \"furnitures\"\n"
     ]
    },
    {
     "name": "stdin",
     "output_type": "stream",
     "text": [
      "Enter Brand Name:  Godrej Interio\n",
      "Enter Product Name:  Queen Bed\n",
      "Enter Product Type:  Bed\n",
      "Enter Unit Price (Non-negetive integer):  45000\n"
     ]
    },
    {
     "name": "stdout",
     "output_type": "stream",
     "text": [
      "Product successfully added to category \"furnitures\"\n",
      "\n",
      "Category - furnitures\n",
      "Product ID           Brand                Product Name         Product Type         Unit Price          \n",
      "furnitures-001       Godrej Interio       King Bed             Bed                  55000               \n",
      "furnitures-002       Godrej Interio       Queen Bed            Bed                  45000               \n"
     ]
    },
    {
     "data": {
      "text/plain": [
       "True"
      ]
     },
     "execution_count": 146,
     "metadata": {},
     "output_type": "execute_result"
    }
   ],
   "source": [
    "# Add a product a category\n",
    "# Here we are adding another product to the category \"furnitures\"\n",
    "add_category_product()"
   ]
  },
  {
   "cell_type": "code",
   "execution_count": 147,
   "id": "0274fd45-ae3e-4407-9108-03108eafbbc7",
   "metadata": {},
   "outputs": [
    {
     "name": "stdout",
     "output_type": "stream",
     "text": [
      "\n",
      "Category - footwear\n",
      "Product ID           Brand                Product Name         Product Type         Unit Price          \n",
      "footwear-001         Crocs                LiteRide 360         Clogs                2000                \n",
      "footwear-002         Nike                 Air Jordan           Sneakers             4000                \n",
      "\n",
      "Category - clothing\n",
      "Product ID           Brand                Product Name         Product Type         Unit Price          \n",
      "clothing-001         Lacoste              Sport 3D             T-Shirt              3500                \n",
      "clothing-002         Peter England        Slim Fit             Formal Shirt         1500                \n",
      "\n",
      "Category - electronics\n",
      "Product ID           Brand                Product Name         Product Type         Unit Price          \n",
      "electronics-001      Apple                iPhone 16 Pro Max    Mobile               75000               \n",
      "electronics-002      Samsung              55 OLED 4K TV        TV                   40000               \n",
      "\n",
      "Category - furnitures\n",
      "Product ID           Brand                Product Name         Product Type         Unit Price          \n",
      "furnitures-001       Godrej Interio       King Bed             Bed                  55000               \n",
      "furnitures-002       Godrej Interio       Queen Bed            Bed                  45000               \n"
     ]
    }
   ],
   "source": [
    "# Printing inventory list the check the product entry in category \"furnitures\", now there are two products in the category \"furnitures\"\n",
    "print_all_category_products()"
   ]
  },
  {
   "cell_type": "markdown",
   "id": "bc89f9b8-b519-4430-aee7-66830a3b7900",
   "metadata": {},
   "source": [
    "#### Update Product Info of a Category (Admin access only)"
   ]
  },
  {
   "cell_type": "code",
   "execution_count": 148,
   "id": "8f510f5d-1d71-4b01-b6ca-f54ec38065ed",
   "metadata": {},
   "outputs": [
    {
     "name": "stdin",
     "output_type": "stream",
     "text": [
      "Enter admin username:  Admin\n"
     ]
    },
    {
     "name": "stdout",
     "output_type": "stream",
     "text": [
      "\n",
      "Update a product from any one of the following categories\n",
      "footwear, clothing, electronics, furnitures\n"
     ]
    },
    {
     "name": "stdin",
     "output_type": "stream",
     "text": [
      "Enter category:  furnitures\n"
     ]
    },
    {
     "name": "stdout",
     "output_type": "stream",
     "text": [
      "\n",
      "Category - furnitures\n",
      "Product ID           Brand                Product Name         Product Type         Unit Price          \n",
      "furnitures-001       Godrej Interio       King Bed             Bed                  55000               \n",
      "furnitures-002       Godrej Interio       Queen Bed            Bed                  45000               \n"
     ]
    },
    {
     "name": "stdin",
     "output_type": "stream",
     "text": [
      "\n",
      "Enter Product ID to update (Refer the above table to get the Product ID):  furnitures-002\n"
     ]
    },
    {
     "name": "stdout",
     "output_type": "stream",
     "text": [
      "\n",
      " Follow product is found, please proceed to update\n",
      "\n",
      "Product ID           Brand                Product Name         Product Type         Unit Price          \n",
      "furnitures-002       Godrej Interio       Queen Bed            Bed                  45000               \n",
      "\n",
      "Please provide the updated info for the product attributes\n",
      "N.B. If you do not want to update any specific attribute give blank input for the corresponding attribute\n"
     ]
    },
    {
     "name": "stdin",
     "output_type": "stream",
     "text": [
      "Enter Brand Name:  \n",
      "Enter Product Name:  \n",
      "Enter Product Type:  \n",
      "Enter Unit Price (Non-negetive integer):  42000\n"
     ]
    },
    {
     "name": "stdout",
     "output_type": "stream",
     "text": [
      "\n",
      "Product List After Update\n",
      "\n",
      "Category - furnitures\n",
      "Product ID           Brand                Product Name         Product Type         Unit Price          \n",
      "furnitures-001       Godrej Interio       King Bed             Bed                  55000               \n",
      "furnitures-002       Godrej Interio       Queen Bed            Bed                  42000               \n"
     ]
    },
    {
     "data": {
      "text/plain": [
       "True"
      ]
     },
     "execution_count": 148,
     "metadata": {},
     "output_type": "execute_result"
    }
   ],
   "source": [
    "# Update product info \n",
    "# To update any particular attibute of a product enter value for that particular attribute and keep other attributes blank\n",
    "update_category_product()"
   ]
  },
  {
   "cell_type": "markdown",
   "id": "19868850-b2d4-4588-865b-f5e20e7d1bae",
   "metadata": {},
   "source": [
    "#### Print Inventory Stock (Admin access only)"
   ]
  },
  {
   "cell_type": "code",
   "execution_count": 149,
   "id": "5170ffac-c2e0-4c6a-b2c2-91841e5ca1c9",
   "metadata": {},
   "outputs": [
    {
     "name": "stdout",
     "output_type": "stream",
     "text": [
      "\n",
      "Category - footwear\n",
      "Product ID           Brand                Product Name         Product Type         Unit Price          \n",
      "footwear-001         Crocs                LiteRide 360         Clogs                2000                \n",
      "footwear-002         Nike                 Air Jordan           Sneakers             4000                \n",
      "\n",
      "Category - clothing\n",
      "Product ID           Brand                Product Name         Product Type         Unit Price          \n",
      "clothing-001         Lacoste              Sport 3D             T-Shirt              3500                \n",
      "clothing-002         Peter England        Slim Fit             Formal Shirt         1500                \n",
      "\n",
      "Category - electronics\n",
      "Product ID           Brand                Product Name         Product Type         Unit Price          \n",
      "electronics-001      Apple                iPhone 16 Pro Max    Mobile               75000               \n",
      "electronics-002      Samsung              55 OLED 4K TV        TV                   40000               \n",
      "\n",
      "Category - furnitures\n",
      "Product ID           Brand                Product Name         Product Type         Unit Price          \n",
      "furnitures-001       Godrej Interio       King Bed             Bed                  55000               \n",
      "furnitures-002       Godrej Interio       Queen Bed            Bed                  42000               \n"
     ]
    }
   ],
   "source": [
    "# Print all the products to check the change\n",
    "print_all_category_products()"
   ]
  },
  {
   "cell_type": "markdown",
   "id": "62657b82-1fa5-49c6-ba48-1ea2c54e17f5",
   "metadata": {},
   "source": [
    "#### Delete a Product From a Category (Admin access only)"
   ]
  },
  {
   "cell_type": "code",
   "execution_count": 150,
   "id": "c45add10-71af-43d3-ac4e-2932fea312dd",
   "metadata": {},
   "outputs": [
    {
     "name": "stdin",
     "output_type": "stream",
     "text": [
      "Enter admin username:  Admin\n"
     ]
    },
    {
     "name": "stdout",
     "output_type": "stream",
     "text": [
      "\n",
      "Delete a product from any one of the following categories\n",
      "footwear, clothing, electronics, furnitures\n"
     ]
    },
    {
     "name": "stdin",
     "output_type": "stream",
     "text": [
      "Enter category:  furnitures\n"
     ]
    },
    {
     "name": "stdout",
     "output_type": "stream",
     "text": [
      "\n",
      "Category - furnitures\n",
      "Product ID           Brand                Product Name         Product Type         Unit Price          \n",
      "furnitures-001       Godrej Interio       King Bed             Bed                  55000               \n",
      "furnitures-002       Godrej Interio       Queen Bed            Bed                  42000               \n"
     ]
    },
    {
     "name": "stdin",
     "output_type": "stream",
     "text": [
      "Enter the Product ID of the Product to be deleted:  furnitures-002\n"
     ]
    },
    {
     "name": "stdout",
     "output_type": "stream",
     "text": [
      "Product deleted successfully from Category \"furnitures\"\n",
      "\n",
      " Category after deletion of the product is as below:\n",
      "\n",
      "Category - furnitures\n",
      "Product ID           Brand                Product Name         Product Type         Unit Price          \n",
      "furnitures-001       Godrej Interio       King Bed             Bed                  55000               \n"
     ]
    },
    {
     "data": {
      "text/plain": [
       "True"
      ]
     },
     "execution_count": 150,
     "metadata": {},
     "output_type": "execute_result"
    }
   ],
   "source": [
    "# Delete a product from a category\n",
    "# Here we delete a product from the category \"furnitures\"\n",
    "delete_category_product()"
   ]
  },
  {
   "cell_type": "markdown",
   "id": "6fa946fa-2457-4427-8448-93a1ad620c80",
   "metadata": {},
   "source": [
    "#### Print Inventory Stock (Admin access only)"
   ]
  },
  {
   "cell_type": "code",
   "execution_count": 151,
   "id": "2d0cc9ce-1ae8-49de-817e-ac484d8a2373",
   "metadata": {},
   "outputs": [
    {
     "name": "stdout",
     "output_type": "stream",
     "text": [
      "\n",
      "Category - footwear\n",
      "Product ID           Brand                Product Name         Product Type         Unit Price          \n",
      "footwear-001         Crocs                LiteRide 360         Clogs                2000                \n",
      "footwear-002         Nike                 Air Jordan           Sneakers             4000                \n",
      "\n",
      "Category - clothing\n",
      "Product ID           Brand                Product Name         Product Type         Unit Price          \n",
      "clothing-001         Lacoste              Sport 3D             T-Shirt              3500                \n",
      "clothing-002         Peter England        Slim Fit             Formal Shirt         1500                \n",
      "\n",
      "Category - electronics\n",
      "Product ID           Brand                Product Name         Product Type         Unit Price          \n",
      "electronics-001      Apple                iPhone 16 Pro Max    Mobile               75000               \n",
      "electronics-002      Samsung              55 OLED 4K TV        TV                   40000               \n",
      "\n",
      "Category - furnitures\n",
      "Product ID           Brand                Product Name         Product Type         Unit Price          \n",
      "furnitures-001       Godrej Interio       King Bed             Bed                  55000               \n"
     ]
    }
   ],
   "source": [
    "# Printing the inventory to check the product has been deleted from the \"category\" furnitures\n",
    "print_all_category_products()"
   ]
  },
  {
   "cell_type": "markdown",
   "id": "ba83eeb5-11e7-4a8c-990e-c89e3b104d5f",
   "metadata": {},
   "source": [
    "#### Show all users orders (Admin access only)"
   ]
  },
  {
   "cell_type": "code",
   "execution_count": 152,
   "id": "ec7cf241-77db-4539-9272-0b643e6e0eb7",
   "metadata": {},
   "outputs": [
    {
     "name": "stdin",
     "output_type": "stream",
     "text": [
      "Enter admin username:  Admin\n"
     ]
    },
    {
     "name": "stdout",
     "output_type": "stream",
     "text": [
      "No order found for \"Saurav\"\n",
      "No order found for \"SG\"\n"
     ]
    },
    {
     "data": {
      "text/plain": [
       "True"
      ]
     },
     "execution_count": 152,
     "metadata": {},
     "output_type": "execute_result"
    }
   ],
   "source": [
    "# This shows all the orders of a users\n",
    "# There are no orders yet by any user so it shows empty for both the users \"Saurav\" and \"SG\"\n",
    "show_all_users_orders()"
   ]
  },
  {
   "cell_type": "code",
   "execution_count": 153,
   "id": "7a640044-0623-44d6-ab5c-96817cd4b876",
   "metadata": {},
   "outputs": [
    {
     "name": "stdin",
     "output_type": "stream",
     "text": [
      "Enter Username:  DemoUser\n",
      "Enter Password:  Demo@1234\n",
      "Re-confirm Password:  Demo@1234\n"
     ]
    },
    {
     "name": "stdout",
     "output_type": "stream",
     "text": [
      "Congratulation, user successfully created. Please login to use the shopping application.\n"
     ]
    }
   ],
   "source": [
    "# Lets sign up another user to demonstrates the user delete functionality\n",
    "user_sign_up()"
   ]
  },
  {
   "cell_type": "code",
   "execution_count": 156,
   "id": "8ba572b6-ba61-4172-9c30-dedf823cb9a8",
   "metadata": {},
   "outputs": [
    {
     "name": "stdout",
     "output_type": "stream",
     "text": [
      "[{'username': 'Admin', 'password': 'Admin@1234'}, {'username': 'Saurav', 'password': 'Password@1234'}, {'username': 'SG', 'password': 'Password@1234'}, {'username': 'DemoUser', 'password': 'Demo@1234'}]\n"
     ]
    }
   ],
   "source": [
    "# Printing the list of users to check the entry of \"DemoUser\" in the system\n",
    "print(users)"
   ]
  },
  {
   "cell_type": "markdown",
   "id": "7f4d6161-2b46-4c57-bcbe-22ba46e6deb5",
   "metadata": {},
   "source": [
    "#### Delete User (Admin access only)"
   ]
  },
  {
   "cell_type": "code",
   "execution_count": 157,
   "id": "e560a9be-8d80-4394-b23e-1d0a8e16ef13",
   "metadata": {},
   "outputs": [
    {
     "name": "stdin",
     "output_type": "stream",
     "text": [
      "Enter admin username:  Admin\n",
      "Enter the username to be deleted:  DemoUser\n"
     ]
    },
    {
     "name": "stdout",
     "output_type": "stream",
     "text": [
      "\"DemoUser\" deleted successfully\n"
     ]
    }
   ],
   "source": [
    "# Delete a system user, Admin can not be deleted\n",
    "delete_user()"
   ]
  },
  {
   "cell_type": "code",
   "execution_count": 159,
   "id": "151e38b3-5fbc-417f-9dd4-0f2e12bc204a",
   "metadata": {},
   "outputs": [
    {
     "name": "stdout",
     "output_type": "stream",
     "text": [
      "[{'username': 'Admin', 'password': 'Admin@1234'}, {'username': 'Saurav', 'password': 'Password@1234'}, {'username': 'SG', 'password': 'Password@1234'}]\n"
     ]
    }
   ],
   "source": [
    "# Printing users list to check whether \"DemoUser\" is removed from the system or not\n",
    "print(users)"
   ]
  },
  {
   "cell_type": "markdown",
   "id": "c5dacb55-09ac-4835-8de1-6e93ccb231fd",
   "metadata": {},
   "source": [
    "### Shopping Function Calls for General Users"
   ]
  },
  {
   "cell_type": "markdown",
   "id": "7efd118c-121a-4f64-b63e-28e3420d95ee",
   "metadata": {},
   "source": [
    "### Cart Function Calls"
   ]
  },
  {
   "cell_type": "markdown",
   "id": "ebaae632-1492-43e3-a486-ec7915111ee6",
   "metadata": {},
   "source": [
    "#### Add to Cart (Logged in user only)"
   ]
  },
  {
   "cell_type": "code",
   "execution_count": 162,
   "id": "d1e3371c-1386-4e81-a0ed-40acd9928bea",
   "metadata": {},
   "outputs": [
    {
     "name": "stdin",
     "output_type": "stream",
     "text": [
      "Enter Username:  Saurav\n",
      "Enter Password:  Password@1234\n"
     ]
    },
    {
     "name": "stdout",
     "output_type": "stream",
     "text": [
      "Hello Saurav, welcome to Shopping Cart Application!\n"
     ]
    }
   ],
   "source": [
    "# For adding an item the user needs to log in first\n",
    "# Let's login with the user \"Saurav\"\n",
    "user_login()"
   ]
  },
  {
   "cell_type": "code",
   "execution_count": 163,
   "id": "5ad67b73-15ca-48b0-8f3e-7847b4248ce9",
   "metadata": {},
   "outputs": [
    {
     "name": "stdin",
     "output_type": "stream",
     "text": [
      "Enter the Username:  Saurav\n"
     ]
    },
    {
     "name": "stdout",
     "output_type": "stream",
     "text": [
      "\n",
      "Choose from the below avalable products\n",
      "\n",
      "Category - footwear\n",
      "Product ID           Brand                Product Name         Product Type         Unit Price          \n",
      "footwear-001         Crocs                LiteRide 360         Clogs                2000                \n",
      "footwear-002         Nike                 Air Jordan           Sneakers             4000                \n",
      "\n",
      "Category - clothing\n",
      "Product ID           Brand                Product Name         Product Type         Unit Price          \n",
      "clothing-001         Lacoste              Sport 3D             T-Shirt              3500                \n",
      "clothing-002         Peter England        Slim Fit             Formal Shirt         1500                \n",
      "\n",
      "Category - electronics\n",
      "Product ID           Brand                Product Name         Product Type         Unit Price          \n",
      "electronics-001      Apple                iPhone 16 Pro Max    Mobile               75000               \n",
      "electronics-002      Samsung              55 OLED 4K TV        TV                   40000               \n",
      "\n",
      "Category - furnitures\n",
      "Product ID           Brand                Product Name         Product Type         Unit Price          \n",
      "furnitures-001       Godrej Interio       King Bed             Bed                  55000               \n",
      "\n",
      "\n"
     ]
    },
    {
     "name": "stdin",
     "output_type": "stream",
     "text": [
      "Enter the ID of Product you want to add to your cart:  footwear-001\n"
     ]
    },
    {
     "name": "stdout",
     "output_type": "stream",
     "text": [
      "\n",
      "Product found\n",
      "\n",
      "Product ID           Brand                Product Name         Product Type         Unit Price          \n",
      "footwear-001         Crocs                LiteRide 360         Clogs                2000                \n"
     ]
    },
    {
     "name": "stdin",
     "output_type": "stream",
     "text": [
      "Enter quantity (Non-negetive integer):  1\n"
     ]
    },
    {
     "name": "stdout",
     "output_type": "stream",
     "text": [
      "Product \"LiteRide 360\" from category \"furnitures\" has been successfully added to the cart!\n"
     ]
    },
    {
     "name": "stdin",
     "output_type": "stream",
     "text": [
      "\n",
      "Do you want to add more products to your cart? Enter \"Y\" to add more:  y\n",
      "Enter the ID of Product you want to add to your cart:  clothing-001\n"
     ]
    },
    {
     "name": "stdout",
     "output_type": "stream",
     "text": [
      "\n",
      "Product found\n",
      "\n",
      "Product ID           Brand                Product Name         Product Type         Unit Price          \n",
      "clothing-001         Lacoste              Sport 3D             T-Shirt              3500                \n"
     ]
    },
    {
     "name": "stdin",
     "output_type": "stream",
     "text": [
      "Enter quantity (Non-negetive integer):  1\n"
     ]
    },
    {
     "name": "stdout",
     "output_type": "stream",
     "text": [
      "Product \"Sport 3D\" from category \"furnitures\" has been successfully added to the cart!\n"
     ]
    },
    {
     "name": "stdin",
     "output_type": "stream",
     "text": [
      "\n",
      "Do you want to add more products to your cart? Enter \"Y\" to add more:  n\n"
     ]
    },
    {
     "name": "stdout",
     "output_type": "stream",
     "text": [
      "\n",
      "Cart Info of \"Saurav\":\n",
      "\n",
      "Product ID           Product Name         Category             Unit Price           Quantity            \n",
      "footwear-001         LiteRide 360         footwear             2000                 1                   \n",
      "clothing-001         Sport 3D             clothing             3500                 1                   \n"
     ]
    },
    {
     "data": {
      "text/plain": [
       "True"
      ]
     },
     "execution_count": 163,
     "metadata": {},
     "output_type": "execute_result"
    }
   ],
   "source": [
    "# It allows a user to add a product to his/her carts\n",
    "# Let's try adding some products to the cart of user \"Saurav\"\n",
    "add_to_cart()"
   ]
  },
  {
   "cell_type": "code",
   "execution_count": 165,
   "id": "4ee68b14-2423-45a7-aba6-b79198a8e043",
   "metadata": {},
   "outputs": [
    {
     "name": "stdin",
     "output_type": "stream",
     "text": [
      "Enter Username:  SG\n",
      "Enter Password:  Password@1234\n"
     ]
    },
    {
     "name": "stdout",
     "output_type": "stream",
     "text": [
      "Hello SG, welcome to Shopping Cart Application!\n"
     ]
    }
   ],
   "source": [
    "# For adding an item the user needs to log in first\n",
    "# Let's login with another user \"SG\"\n",
    "user_login()"
   ]
  },
  {
   "cell_type": "code",
   "execution_count": 168,
   "id": "c517a26b-242b-4b69-94c6-535703a9bede",
   "metadata": {},
   "outputs": [
    {
     "name": "stdin",
     "output_type": "stream",
     "text": [
      "Enter the Username:  SG\n"
     ]
    },
    {
     "name": "stdout",
     "output_type": "stream",
     "text": [
      "\n",
      "Choose from the below avalable products\n",
      "\n",
      "Category - footwear\n",
      "Product ID           Brand                Product Name         Product Type         Unit Price          \n",
      "footwear-001         Crocs                LiteRide 360         Clogs                2000                \n",
      "footwear-002         Nike                 Air Jordan           Sneakers             4000                \n",
      "\n",
      "Category - clothing\n",
      "Product ID           Brand                Product Name         Product Type         Unit Price          \n",
      "clothing-001         Lacoste              Sport 3D             T-Shirt              3500                \n",
      "clothing-002         Peter England        Slim Fit             Formal Shirt         1500                \n",
      "\n",
      "Category - electronics\n",
      "Product ID           Brand                Product Name         Product Type         Unit Price          \n",
      "electronics-001      Apple                iPhone 16 Pro Max    Mobile               75000               \n",
      "electronics-002      Samsung              55 OLED 4K TV        TV                   40000               \n",
      "\n",
      "Category - furnitures\n",
      "Product ID           Brand                Product Name         Product Type         Unit Price          \n",
      "furnitures-001       Godrej Interio       King Bed             Bed                  55000               \n",
      "\n",
      "\n"
     ]
    },
    {
     "name": "stdin",
     "output_type": "stream",
     "text": [
      "Enter the ID of Product you want to add to your cart:  footwear-001\n"
     ]
    },
    {
     "name": "stdout",
     "output_type": "stream",
     "text": [
      "\n",
      "Product found\n",
      "\n",
      "Product ID           Brand                Product Name         Product Type         Unit Price          \n",
      "footwear-001         Crocs                LiteRide 360         Clogs                2000                \n"
     ]
    },
    {
     "name": "stdin",
     "output_type": "stream",
     "text": [
      "Enter quantity (Non-negetive integer):  1\n"
     ]
    },
    {
     "name": "stdout",
     "output_type": "stream",
     "text": [
      "Product \"LiteRide 360\" from category \"furnitures\" has been successfully added to the cart!\n"
     ]
    },
    {
     "name": "stdin",
     "output_type": "stream",
     "text": [
      "\n",
      "Do you want to add more products to your cart? Enter \"Y\" to add more:  y\n",
      "Enter the ID of Product you want to add to your cart:  footwear-002\n"
     ]
    },
    {
     "name": "stdout",
     "output_type": "stream",
     "text": [
      "\n",
      "Product found\n",
      "\n",
      "Product ID           Brand                Product Name         Product Type         Unit Price          \n",
      "footwear-002         Nike                 Air Jordan           Sneakers             4000                \n"
     ]
    },
    {
     "name": "stdin",
     "output_type": "stream",
     "text": [
      "Enter quantity (Non-negetive integer):  1\n"
     ]
    },
    {
     "name": "stdout",
     "output_type": "stream",
     "text": [
      "Product \"Air Jordan\" from category \"furnitures\" has been successfully added to the cart!\n"
     ]
    },
    {
     "name": "stdin",
     "output_type": "stream",
     "text": [
      "\n",
      "Do you want to add more products to your cart? Enter \"Y\" to add more:  y\n",
      "Enter the ID of Product you want to add to your cart:  electronics-001\n"
     ]
    },
    {
     "name": "stdout",
     "output_type": "stream",
     "text": [
      "\n",
      "Product found\n",
      "\n",
      "Product ID           Brand                Product Name         Product Type         Unit Price          \n",
      "electronics-001      Apple                iPhone 16 Pro Max    Mobile               75000               \n"
     ]
    },
    {
     "name": "stdin",
     "output_type": "stream",
     "text": [
      "Enter quantity (Non-negetive integer):  1\n"
     ]
    },
    {
     "name": "stdout",
     "output_type": "stream",
     "text": [
      "Product \"iPhone 16 Pro Max\" from category \"furnitures\" has been successfully added to the cart!\n"
     ]
    },
    {
     "name": "stdin",
     "output_type": "stream",
     "text": [
      "\n",
      "Do you want to add more products to your cart? Enter \"Y\" to add more:  y\n",
      "Enter the ID of Product you want to add to your cart:  furnitures-001\n"
     ]
    },
    {
     "name": "stdout",
     "output_type": "stream",
     "text": [
      "\n",
      "Product found\n",
      "\n",
      "Product ID           Brand                Product Name         Product Type         Unit Price          \n",
      "furnitures-001       Godrej Interio       King Bed             Bed                  55000               \n"
     ]
    },
    {
     "name": "stdin",
     "output_type": "stream",
     "text": [
      "Enter quantity (Non-negetive integer):  1\n"
     ]
    },
    {
     "name": "stdout",
     "output_type": "stream",
     "text": [
      "Product \"King Bed\" from category \"furnitures\" has been successfully added to the cart!\n"
     ]
    },
    {
     "name": "stdin",
     "output_type": "stream",
     "text": [
      "\n",
      "Do you want to add more products to your cart? Enter \"Y\" to add more:  y\n",
      "Enter the ID of Product you want to add to your cart:  footwear-001\n"
     ]
    },
    {
     "name": "stdout",
     "output_type": "stream",
     "text": [
      "\n",
      "Product found\n",
      "\n",
      "Product ID           Brand                Product Name         Product Type         Unit Price          \n",
      "footwear-001         Crocs                LiteRide 360         Clogs                2000                \n"
     ]
    },
    {
     "name": "stdin",
     "output_type": "stream",
     "text": [
      "Enter quantity (Non-negetive integer):  2\n"
     ]
    },
    {
     "name": "stdout",
     "output_type": "stream",
     "text": [
      "Product \"LiteRide 360\" from category \"furnitures\" has been successfully added to the cart!\n"
     ]
    },
    {
     "name": "stdin",
     "output_type": "stream",
     "text": [
      "\n",
      "Do you want to add more products to your cart? Enter \"Y\" to add more:  n\n"
     ]
    },
    {
     "name": "stdout",
     "output_type": "stream",
     "text": [
      "\n",
      "Cart Info of \"SG\":\n",
      "\n",
      "Product ID           Product Name         Category             Unit Price           Quantity            \n",
      "footwear-001         LiteRide 360         footwear             2000                 3                   \n",
      "footwear-002         Air Jordan           footwear             4000                 1                   \n",
      "electronics-001      iPhone 16 Pro Max    electronics          75000                1                   \n",
      "furnitures-001       King Bed             furnitures           55000                1                   \n"
     ]
    },
    {
     "data": {
      "text/plain": [
       "True"
      ]
     },
     "execution_count": 168,
     "metadata": {},
     "output_type": "execute_result"
    }
   ],
   "source": [
    "# It allows a user to add a product to his/her carts\n",
    "# Let's try adding some products to the cart of user \"SG\"\n",
    "# Here the product with ID \"footwear-001\" has been added twice by the user \"SG\" and the entry in the cart for \"footwear-001\" remains 1 just the cart quantity is incremented\n",
    "add_to_cart()"
   ]
  },
  {
   "cell_type": "markdown",
   "id": "1c90acb5-082b-498f-9569-5fd46455345c",
   "metadata": {
    "tags": []
   },
   "source": [
    "#### Show Cart Info (Logged in user only)"
   ]
  },
  {
   "cell_type": "code",
   "execution_count": 164,
   "id": "3c6caaef-1ae6-4431-ad86-cc2318d391fd",
   "metadata": {},
   "outputs": [
    {
     "name": "stdin",
     "output_type": "stream",
     "text": [
      "Enter the Username:  Saurav\n"
     ]
    },
    {
     "name": "stdout",
     "output_type": "stream",
     "text": [
      "\n",
      "Cart Info of \"Saurav\":\n",
      "\n",
      "Product ID           Product Name         Category             Unit Price           Quantity            \n",
      "footwear-001         LiteRide 360         footwear             2000                 1                   \n",
      "clothing-001         Sport 3D             clothing             3500                 1                   \n"
     ]
    },
    {
     "data": {
      "text/plain": [
       "True"
      ]
     },
     "execution_count": 164,
     "metadata": {},
     "output_type": "execute_result"
    }
   ],
   "source": [
    "# Show cart info for user \"Saurav\"\n",
    "user_cart_info()"
   ]
  },
  {
   "cell_type": "code",
   "execution_count": 169,
   "id": "cb5010d6-65d6-4a24-b55f-32e3d4fcafeb",
   "metadata": {},
   "outputs": [
    {
     "name": "stdin",
     "output_type": "stream",
     "text": [
      "Enter the Username:  SG\n"
     ]
    },
    {
     "name": "stdout",
     "output_type": "stream",
     "text": [
      "\n",
      "Cart Info of \"SG\":\n",
      "\n",
      "Product ID           Product Name         Category             Unit Price           Quantity            \n",
      "footwear-001         LiteRide 360         footwear             2000                 3                   \n",
      "footwear-002         Air Jordan           footwear             4000                 1                   \n",
      "electronics-001      iPhone 16 Pro Max    electronics          75000                1                   \n",
      "furnitures-001       King Bed             furnitures           55000                1                   \n"
     ]
    },
    {
     "data": {
      "text/plain": [
       "True"
      ]
     },
     "execution_count": 169,
     "metadata": {},
     "output_type": "execute_result"
    }
   ],
   "source": [
    "# Show cart info for user \"SG\"\n",
    "user_cart_info()"
   ]
  },
  {
   "cell_type": "markdown",
   "id": "90761e1c-f23a-4903-8b22-12ff7553fb1e",
   "metadata": {},
   "source": [
    "#### Delete Specific Items from User's Cart (Logged in user only)"
   ]
  },
  {
   "cell_type": "code",
   "execution_count": 170,
   "id": "5c33db58-af61-4eab-86e1-0efc7715f401",
   "metadata": {},
   "outputs": [
    {
     "name": "stdin",
     "output_type": "stream",
     "text": [
      "Enter the Username:  SG\n"
     ]
    },
    {
     "name": "stdout",
     "output_type": "stream",
     "text": [
      "\n",
      "Cart Info of \"SG\":\n",
      "\n",
      "Product ID           Product Name         Category             Unit Price           Quantity            \n",
      "footwear-001         LiteRide 360         footwear             2000                 3                   \n",
      "footwear-002         Air Jordan           footwear             4000                 1                   \n",
      "electronics-001      iPhone 16 Pro Max    electronics          75000                1                   \n",
      "furnitures-001       King Bed             furnitures           55000                1                   \n",
      "\n",
      "\n"
     ]
    },
    {
     "name": "stdin",
     "output_type": "stream",
     "text": [
      "Enter the ID of Product you want to delete from your cart:  electronics-001\n"
     ]
    },
    {
     "name": "stdout",
     "output_type": "stream",
     "text": [
      "Product successfully removed from cart\"\n",
      "\n",
      "\n",
      "Updated Cart info after item deletion\n",
      "\n",
      "Cart Info of \"SG\":\n",
      "\n",
      "Product ID           Product Name         Category             Unit Price           Quantity            \n",
      "footwear-001         LiteRide 360         footwear             2000                 3                   \n",
      "footwear-002         Air Jordan           footwear             4000                 1                   \n",
      "furnitures-001       King Bed             furnitures           55000                1                   \n"
     ]
    },
    {
     "name": "stdin",
     "output_type": "stream",
     "text": [
      "\n",
      "Do you want to delete more products to your cart? Enter \"Y\" to delete more:  n\n"
     ]
    },
    {
     "data": {
      "text/plain": [
       "True"
      ]
     },
     "execution_count": 170,
     "metadata": {},
     "output_type": "execute_result"
    }
   ],
   "source": [
    "# Remove any product from a user's cart\n",
    "# Here we are removing a product from the cart of the user \"SG\"\n",
    "remove_cart_items()"
   ]
  },
  {
   "cell_type": "code",
   "execution_count": 171,
   "id": "ea6618d8-2034-4d02-b658-e00227775414",
   "metadata": {},
   "outputs": [
    {
     "name": "stdin",
     "output_type": "stream",
     "text": [
      "Enter the Username:  SG\n"
     ]
    },
    {
     "name": "stdout",
     "output_type": "stream",
     "text": [
      "\n",
      "Cart Info of \"SG\":\n",
      "\n",
      "Product ID           Product Name         Category             Unit Price           Quantity            \n",
      "footwear-001         LiteRide 360         footwear             2000                 3                   \n",
      "footwear-002         Air Jordan           footwear             4000                 1                   \n",
      "furnitures-001       King Bed             furnitures           55000                1                   \n"
     ]
    },
    {
     "data": {
      "text/plain": [
       "True"
      ]
     },
     "execution_count": 171,
     "metadata": {},
     "output_type": "execute_result"
    }
   ],
   "source": [
    "# Updated cart info for user \"SG\" removal of the product from the cart\n",
    "user_cart_info()"
   ]
  },
  {
   "cell_type": "markdown",
   "id": "4e557ab6-21fe-44ea-ad69-2466f96e6c88",
   "metadata": {},
   "source": [
    "#### Clear the cart of specific user (Logged in user only)"
   ]
  },
  {
   "cell_type": "code",
   "execution_count": 172,
   "id": "127ff448-4c37-4206-8182-a102388ccde8",
   "metadata": {},
   "outputs": [
    {
     "name": "stdin",
     "output_type": "stream",
     "text": [
      "Enter the Username:  Saurav\n"
     ]
    },
    {
     "name": "stdout",
     "output_type": "stream",
     "text": [
      "Successfully deleted all the items from the cart of \"Saurav\"\n"
     ]
    }
   ],
   "source": [
    "# It clears all the entries from the cart of a user\n",
    "# In this case we are removing all the entries from the cart of the user \"Saurav\"\n",
    "clear_user_cart()"
   ]
  },
  {
   "cell_type": "code",
   "execution_count": 173,
   "id": "b4d68723-f939-4c16-b6c9-9ab56ef63fd1",
   "metadata": {},
   "outputs": [
    {
     "name": "stdin",
     "output_type": "stream",
     "text": [
      "Enter the Username:  Saurav\n"
     ]
    },
    {
     "name": "stdout",
     "output_type": "stream",
     "text": [
      "\n",
      "Cart Info of \"Saurav\":\n",
      "\n",
      "No items in cart\n"
     ]
    },
    {
     "data": {
      "text/plain": [
       "True"
      ]
     },
     "execution_count": 173,
     "metadata": {},
     "output_type": "execute_result"
    }
   ],
   "source": [
    "# Let's check the cart info of \"Saurav\" post clear cart call\n",
    "user_cart_info()"
   ]
  },
  {
   "cell_type": "markdown",
   "id": "527bab5f-8e22-4666-b250-0e313177a9f8",
   "metadata": {},
   "source": [
    "### User Order Function Calls"
   ]
  },
  {
   "cell_type": "markdown",
   "id": "abc4071f-37ff-48d9-b9ba-3899ca88455d",
   "metadata": {},
   "source": [
    "#### Place User Order from Cart (Logged in user only)"
   ]
  },
  {
   "cell_type": "code",
   "execution_count": 174,
   "id": "f2d07d18-21d6-499f-a671-c6e2e150d7ae",
   "metadata": {},
   "outputs": [
    {
     "name": "stdin",
     "output_type": "stream",
     "text": [
      "Enter the Username:  Saurav\n"
     ]
    },
    {
     "name": "stdout",
     "output_type": "stream",
     "text": [
      "No cart item found for \"Saurav\"\n"
     ]
    },
    {
     "data": {
      "text/plain": [
       "True"
      ]
     },
     "execution_count": 174,
     "metadata": {},
     "output_type": "execute_result"
    }
   ],
   "source": [
    "# Place a order from user cart\n",
    "# Let's now try placing order for \"Saurav\" whose cart is empty\n",
    "place_order()"
   ]
  },
  {
   "cell_type": "code",
   "execution_count": 175,
   "id": "3f28e0bd-5a97-41f5-bba6-e6d190317753",
   "metadata": {},
   "outputs": [
    {
     "name": "stdin",
     "output_type": "stream",
     "text": [
      "Enter the Username:  SG\n"
     ]
    },
    {
     "name": "stdout",
     "output_type": "stream",
     "text": [
      "\n",
      "Cart Info of \"SG\":\n",
      "\n",
      "Product ID           Product Name         Category             Unit Price           Quantity            \n",
      "footwear-001         LiteRide 360         footwear             2000                 3                   \n",
      "footwear-002         Air Jordan           footwear             4000                 1                   \n",
      "furnitures-001       King Bed             furnitures           55000                1                   \n",
      "\n",
      "Total Payable amount is: 65000\n",
      "\n",
      "Please choose from the below payment methods to place your order\n",
      "Credit_Card, Debit_Card, Cash, UPI\n"
     ]
    },
    {
     "name": "stdin",
     "output_type": "stream",
     "text": [
      "Enter Payment Mode:  Credit_Card\n"
     ]
    },
    {
     "name": "stdout",
     "output_type": "stream",
     "text": [
      "Order placed successfully for \"SG\". Thank You for Shopping with us\n"
     ]
    },
    {
     "data": {
      "text/plain": [
       "True"
      ]
     },
     "execution_count": 175,
     "metadata": {},
     "output_type": "execute_result"
    }
   ],
   "source": [
    "# Place a order from user cart\n",
    "# Let's now try placing order for \"SG\" whose cart has products\n",
    "# The order is placed successfully after entering a valid payment method\n",
    "place_order()"
   ]
  },
  {
   "cell_type": "markdown",
   "id": "d5004292-67cb-4d71-bd35-1e30a79dde72",
   "metadata": {},
   "source": [
    "#### Show User Order(s) (Logged in user only)"
   ]
  },
  {
   "cell_type": "code",
   "execution_count": 176,
   "id": "33392af7-e531-4058-b9e9-511270f2bfca",
   "metadata": {},
   "outputs": [
    {
     "name": "stdin",
     "output_type": "stream",
     "text": [
      "Enter the Username:  SG\n"
     ]
    },
    {
     "name": "stdout",
     "output_type": "stream",
     "text": [
      "\n",
      "Order List of \"SG\"\n",
      "\n",
      "Order ID: order-001, Order Date: 2024-10-10 09:24:48.346462, Order Total: 65000, Payment Method: Credit_Card\n",
      "Order Items:\n",
      "Product ID           Product Name         Category             Unit Price           Quantity            \n",
      "footwear-001         LiteRide 360         footwear             2000                 3                   \n",
      "footwear-002         Air Jordan           footwear             4000                 1                   \n",
      "furnitures-001       King Bed             furnitures           55000                1                   \n"
     ]
    },
    {
     "data": {
      "text/plain": [
       "True"
      ]
     },
     "execution_count": 176,
     "metadata": {},
     "output_type": "execute_result"
    }
   ],
   "source": [
    "# This shows the orders of the current user\n",
    "# In this case we are showing the orders for the user \"SG\"\n",
    "show_user_orders()"
   ]
  },
  {
   "cell_type": "markdown",
   "id": "a7ba1409-77c5-4567-a21c-640ea928ad34",
   "metadata": {},
   "source": [
    "#### Finally we call the fuction to show the orders of all the users (Admin access only)"
   ]
  },
  {
   "cell_type": "code",
   "execution_count": 177,
   "id": "ead31601-a821-44a4-9076-5e388a1caab7",
   "metadata": {},
   "outputs": [
    {
     "name": "stdin",
     "output_type": "stream",
     "text": [
      "Enter admin username:  Admin\n"
     ]
    },
    {
     "name": "stdout",
     "output_type": "stream",
     "text": [
      "No order found for \"Saurav\"\n",
      "\n",
      "Order List of \"SG\"\n",
      "\n",
      "Order ID: order-001, Order Date: 2024-10-10 09:24:48.346462, Order Total: 65000, Payment Method: Credit_Card\n",
      "Order Items:\n",
      "Product ID           Product Name         Category             Unit Price           Quantity            \n",
      "footwear-001         LiteRide 360         footwear             2000                 3                   \n",
      "footwear-002         Air Jordan           footwear             4000                 1                   \n",
      "furnitures-001       King Bed             furnitures           55000                1                   \n"
     ]
    },
    {
     "data": {
      "text/plain": [
       "True"
      ]
     },
     "execution_count": 177,
     "metadata": {},
     "output_type": "execute_result"
    }
   ],
   "source": [
    "# This shows all the orders of a users\n",
    "# There are no orders yet by any user so it shows empty for both the users \"Saurav\" and \"SG\"\n",
    "show_all_users_orders()"
   ]
  }
 ],
 "metadata": {
  "kernelspec": {
   "display_name": "Python 3 [3.10]",
   "language": "python",
   "name": "python3"
  },
  "language_info": {
   "codemirror_mode": {
    "name": "ipython",
    "version": 3
   },
   "file_extension": ".py",
   "mimetype": "text/x-python",
   "name": "python",
   "nbconvert_exporter": "python",
   "pygments_lexer": "ipython3",
   "version": "3.10.2"
  }
 },
 "nbformat": 4,
 "nbformat_minor": 5
}
